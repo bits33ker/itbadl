{
  "nbformat": 4,
  "nbformat_minor": 0,
  "metadata": {
    "kernelspec": {
      "display_name": "Python 3",
      "language": "python",
      "name": "python3"
    },
    "language_info": {
      "codemirror_mode": {
        "name": "ipython",
        "version": 3
      },
      "file_extension": ".py",
      "mimetype": "text/x-python",
      "name": "python",
      "nbconvert_exporter": "python",
      "pygments_lexer": "ipython3",
      "version": "3.6.10"
    },
    "colab": {
      "name": "MontyHall Simulation.ipynb",
      "provenance": [],
      "collapsed_sections": [],
      "include_colab_link": true
    }
  },
  "cells": [
    {
      "cell_type": "markdown",
      "metadata": {
        "id": "view-in-github",
        "colab_type": "text"
      },
      "source": [
        "<a href=\"https://colab.research.google.com/github/bits33ker/itbadl/blob/main/MontyHall_Simulation.ipynb\" target=\"_parent\"><img src=\"https://colab.research.google.com/assets/colab-badge.svg\" alt=\"Open In Colab\"/></a>"
      ]
    },
    {
      "cell_type": "code",
      "metadata": {
        "id": "fkjbEQWIK8UG"
      },
      "source": [
        "import numpy as np\n",
        "import matplotlib.pyplot as plt"
      ],
      "execution_count": 1,
      "outputs": []
    },
    {
      "cell_type": "markdown",
      "metadata": {
        "id": "MGkfkwlejguB"
      },
      "source": [
        "#**Definicion de funciones**"
      ]
    },
    {
      "cell_type": "code",
      "metadata": {
        "id": "qKisUOyaQ1y4"
      },
      "source": [
        "#ahora reduzco el numero de puertas a 2 eliminando el resto de las puertas menos la que contiene el auto y una mas\n",
        "def cambio(auto, primer_eleccion, puertas):\n",
        "  segunda_eleccion = np.array(auto)\n",
        "  for i in range(len(auto)):\n",
        "    segunda_eleccion[i] = auto[i]\n",
        "    if primer_eleccion[i]==auto[i]:\n",
        "      while segunda_eleccion[i]==auto[i]:\n",
        "        segunda_eleccion[i] = np.random.randint(0, puertas)  \n",
        "  return np.array(segunda_eleccion)  "
      ],
      "execution_count": 2,
      "outputs": []
    },
    {
      "cell_type": "code",
      "metadata": {
        "id": "BPRYSQmwWtpm"
      },
      "source": [
        "#comparo eleccion con array de autos\n",
        "def comparo(auto, eleccion, simulaciones):\n",
        "  resultado = 0\n",
        "  for i in range(simulaciones):\n",
        "    if eleccion[i]==auto[i]:\n",
        "      resultado = resultado + 1\n",
        "  return resultado"
      ],
      "execution_count": 3,
      "outputs": []
    },
    {
      "cell_type": "code",
      "metadata": {
        "id": "G8APkc_1UqQj"
      },
      "source": [
        "#devuelve array con resultdos de acuerdo a la cantidad de simulaciones\n",
        "def acumulo(auto, eleccion, simulaciones):\n",
        "  resultado = np.zeros(simulaciones)\n",
        "  acumulado = 0\n",
        "  for i in range(simulaciones):\n",
        "    if eleccion[i]==auto[i]:\n",
        "      acumulado = acumulado + 1\n",
        "    resultado[i] = (100*acumulado)/(i+1)\n",
        "  return resultado"
      ],
      "execution_count": 4,
      "outputs": []
    },
    {
      "cell_type": "markdown",
      "metadata": {
        "id": "mxLbvVM4jQkf"
      },
      "source": [
        "#**Configuracion de Simulacion**"
      ]
    },
    {
      "cell_type": "code",
      "metadata": {
        "id": "nd2szFuHK8UI"
      },
      "source": [
        "simulaciones = 1000\n",
        "puertas = 3"
      ],
      "execution_count": 5,
      "outputs": []
    },
    {
      "cell_type": "markdown",
      "metadata": {
        "id": "kyp7oBy_N8-h"
      },
      "source": [
        "# **Arrays**"
      ]
    },
    {
      "cell_type": "code",
      "metadata": {
        "id": "Hh3FZcoXjBQy"
      },
      "source": [
        "#auto: puerta donde se encuentra el auto\n",
        "auto = np.random.randint(0, puertas, simulaciones)"
      ],
      "execution_count": 6,
      "outputs": []
    },
    {
      "cell_type": "code",
      "metadata": {
        "id": "Dk-KlcfkK8UJ"
      },
      "source": [
        "#seleccion original del participante\n",
        "seleccion = np.random.randint(0, puertas, simulaciones)"
      ],
      "execution_count": 7,
      "outputs": []
    },
    {
      "cell_type": "code",
      "metadata": {
        "id": "e_dUQK4PK8UL"
      },
      "source": [
        "#reduzco puertas\n",
        "segunda_seleccion = cambio(auto, seleccion, puertas)"
      ],
      "execution_count": 8,
      "outputs": []
    },
    {
      "cell_type": "markdown",
      "metadata": {
        "id": "DZ25NsvcOFLg"
      },
      "source": [
        "# **Resultados**"
      ]
    },
    {
      "cell_type": "code",
      "metadata": {
        "colab": {
          "base_uri": "https://localhost:8080/"
        },
        "id": "KD9mmRJtK8UM",
        "outputId": "f2e05888-c963-44ad-c037-8ee9e49b3fef"
      },
      "source": [
        "#comparo arrays\n",
        "resultado_primera = comparo(auto, seleccion, simulaciones)  \n",
        "resultado_segunda = comparo(auto, segunda_seleccion, simulaciones)  \n",
        "print(\"Aciertos de Primer eleccion: \" + str(resultado_primera) + \" Simulaciones: \" + str(simulaciones) + \" Porcentaje: \" + str((100*resultado_primera)/simulaciones))\n",
        "print(\"Aciertos de Segunda eleccion: \" + str(resultado_segunda) + \" Simulaciones: \" + str(simulaciones) + \" Porcentaje: \" + str((100*resultado_segunda)/simulaciones))\n",
        "    "
      ],
      "execution_count": 9,
      "outputs": [
        {
          "output_type": "stream",
          "text": [
            "Aciertos de Primer eleccion: 335 Simulaciones: 1000 Porcentaje: 33.5\n",
            "Aciertos de Segunda eleccion: 665 Simulaciones: 1000 Porcentaje: 66.5\n"
          ],
          "name": "stdout"
        }
      ]
    },
    {
      "cell_type": "markdown",
      "metadata": {
        "id": "Q9f2YnSoV-3I"
      },
      "source": [
        "# **Graficos**"
      ]
    },
    {
      "cell_type": "code",
      "metadata": {
        "id": "qhd-8xZcK8UM",
        "colab": {
          "base_uri": "https://localhost:8080/",
          "height": 319
        },
        "outputId": "3be6df4e-d046-4dc5-dc98-71b3152bee70"
      },
      "source": [
        "#grafico los procentaje de acierto por la primer seleccion y la segunda. \n",
        "#En el se ve que se requiere una cantidad de simulaciones para llegar a los valores indicados de montyhall.\n",
        "acumulado_primera = acumulo(auto, seleccion, simulaciones)  \n",
        "acumulado_segunda = acumulo(auto, segunda_seleccion, simulaciones)  \n",
        "x = np.linspace(0, simulaciones, simulaciones)\n",
        "fig = plt.figure();\n",
        "ax1 = fig.add_subplot(111)\n",
        "ax1.plot(x, acumulado_primera, label = 'porcentaje', color = 'blue')\n",
        "ax2 = fig.add_subplot(111)\n",
        "ax2.plot(x, acumulado_segunda, label = 'porcentaje', color = 'red')\n",
        "plt.show()\n",
        "\n"
      ],
      "execution_count": 10,
      "outputs": [
        {
          "output_type": "stream",
          "text": [
            "/usr/local/lib/python3.7/dist-packages/ipykernel_launcher.py:9: MatplotlibDeprecationWarning: Adding an axes using the same arguments as a previous axes currently reuses the earlier instance.  In a future version, a new instance will always be created and returned.  Meanwhile, this warning can be suppressed, and the future behavior ensured, by passing a unique label to each axes instance.\n",
            "  if __name__ == '__main__':\n"
          ],
          "name": "stderr"
        },
        {
          "output_type": "display_data",
          "data": {
            "image/png": "[encoded data removed]",
            "text/plain": [
              "<Figure size 432x288 with 1 Axes>"
            ]
          },
          "metadata": {
            "tags": [],
            "needs_background": "light"
          }
        }
      ]
    }
  ]
}