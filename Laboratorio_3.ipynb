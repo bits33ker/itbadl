{
 "cells": [
  {
   "cell_type": "markdown",
   "metadata": {
    "colab_type": "text",
    "id": "5MYaQwP0dLGf"
   },
   "source": [
    "# Naive Bayes Discreto\n",
    "\n",
    "Haremos un clasificador de artículos utilizando un modelo de Naive Bayes discreto. Trabajaremos con el dataset de Twenty News Group. Antes de empezar carguemos el dataset:"
   ]
  },
  {
   "cell_type": "code",
   "execution_count": 1,
   "metadata": {
    "colab": {},
    "colab_type": "code",
    "id": "cnSlIWEac1mm"
   },
   "outputs": [],
   "source": [
    "#Loading the data set - training data.\n",
    "from sklearn.datasets import fetch_20newsgroups\n",
    "twenty_train = fetch_20newsgroups(subset='train', shuffle=False)"
   ]
  },
  {
   "cell_type": "code",
   "execution_count": 2,
   "metadata": {
    "colab": {},
    "colab_type": "code",
    "id": "9m-XZO1Gc2v_"
   },
   "outputs": [
    {
     "data": {
      "text/plain": [
       "dict_keys(['data', 'filenames', 'target_names', 'target', 'DESCR'])"
      ]
     },
     "execution_count": 2,
     "metadata": {},
     "output_type": "execute_result"
    }
   ],
   "source": [
    "twenty_train.keys()"
   ]
  },
  {
   "cell_type": "code",
   "execution_count": 3,
   "metadata": {
    "colab": {},
    "colab_type": "code",
    "id": "OvtYC0qndcGJ"
   },
   "outputs": [
    {
     "data": {
      "text/plain": [
       "11314"
      ]
     },
     "execution_count": 3,
     "metadata": {},
     "output_type": "execute_result"
    }
   ],
   "source": [
    "len(twenty_train.data) #Cantidad de artículos periodísticos"
   ]
  },
  {
   "cell_type": "code",
   "execution_count": 4,
   "metadata": {
    "colab": {},
    "colab_type": "code",
    "id": "R2MddId4d7EF"
   },
   "outputs": [
    {
     "data": {
      "text/plain": [
       "{0, 1, 2, 3, 4, 5, 6, 7, 8, 9, 10, 11, 12, 13, 14, 15, 16, 17, 18, 19}"
      ]
     },
     "execution_count": 4,
     "metadata": {},
     "output_type": "execute_result"
    }
   ],
   "source": [
    "set(twenty_train[\"target\"]) #Clasificaciones de los artículos"
   ]
  },
  {
   "cell_type": "code",
   "execution_count": 5,
   "metadata": {
    "colab": {},
    "colab_type": "code",
    "id": "fJZkpO1SeAcq"
   },
   "outputs": [
    {
     "data": {
      "text/plain": [
       "['alt.atheism',\n",
       " 'comp.graphics',\n",
       " 'comp.os.ms-windows.misc',\n",
       " 'comp.sys.ibm.pc.hardware',\n",
       " 'comp.sys.mac.hardware',\n",
       " 'comp.windows.x',\n",
       " 'misc.forsale',\n",
       " 'rec.autos',\n",
       " 'rec.motorcycles',\n",
       " 'rec.sport.baseball',\n",
       " 'rec.sport.hockey',\n",
       " 'sci.crypt',\n",
       " 'sci.electronics',\n",
       " 'sci.med',\n",
       " 'sci.space',\n",
       " 'soc.religion.christian',\n",
       " 'talk.politics.guns',\n",
       " 'talk.politics.mideast',\n",
       " 'talk.politics.misc',\n",
       " 'talk.religion.misc']"
      ]
     },
     "execution_count": 5,
     "metadata": {},
     "output_type": "execute_result"
    }
   ],
   "source": [
    "twenty_train[\"target_names\"] #Referencia de los números de target"
   ]
  },
  {
   "cell_type": "code",
   "execution_count": 6,
   "metadata": {
    "colab": {},
    "colab_type": "code",
    "id": "X0byXL5-eFcx"
   },
   "outputs": [
    {
     "data": {
      "text/plain": [
       "'From: taihou@chromium.iss.nus.sg (Tng Tai Hou)\\nSubject: ADB and graphics tablet help!\\nOrganization: Institute Of Systems Science, NUS\\nLines: 13\\n\\nHelp!!!\\n\\nI have an ADB graphicsd tablet which I want to connect to my\\nQuadra 950. Unfortunately, the 950 has only one ADB port and\\nit seems I would have to give up my mouse.\\n\\nPlease, can someone help me? I want to use the tablet as well as\\nthe mouse (and the keyboard of course!!!).\\n\\nThanks in advance.\\n\\nTai Hou TNG\\nSingapore\\n'"
      ]
     },
     "execution_count": 6,
     "metadata": {},
     "output_type": "execute_result"
    }
   ],
   "source": [
    "twenty_train.data[5] # Primer artículo"
   ]
  },
  {
   "cell_type": "markdown",
   "metadata": {
    "colab_type": "text",
    "id": "alhF9Z41eQhA"
   },
   "source": [
    "Vamos a aplicar el siguiente procesamiento utilizando los conceptos vistos en clase:\n",
    "\n",
    "* Tokenization (nltk)\n",
    "* Lemmatization (nltk)\n",
    "* Stop Words (nltk)\n",
    "* Stemming (nltk)\n",
    "* Filtrado de palabras\n",
    "* Obtención del vocabulario (countvectorizer)\n",
    "* Transformación de los artículos en vectores\n",
    "* Armado del modelo de Naive Bayes Multinomial\n",
    "* Evaluación con el Train Set\n",
    "* Evaluación con el Test Set"
   ]
  },
  {
   "cell_type": "code",
   "execution_count": 7,
   "metadata": {
    "colab": {},
    "colab_type": "code",
    "id": "vVNxGZHMeJsH"
   },
   "outputs": [
    {
     "name": "stderr",
     "output_type": "stream",
     "text": [
      "[nltk_data] Downloading package wordnet to\n",
      "[nltk_data]     C:\\Users\\eugenio.voss\\AppData\\Roaming\\nltk_data...\n",
      "[nltk_data]   Package wordnet is already up-to-date!\n",
      "[nltk_data] Downloading package punkt to\n",
      "[nltk_data]     C:\\Users\\eugenio.voss\\AppData\\Roaming\\nltk_data...\n",
      "[nltk_data]   Package punkt is already up-to-date!\n",
      "[nltk_data] Downloading package stopwords to\n",
      "[nltk_data]     C:\\Users\\eugenio.voss\\AppData\\Roaming\\nltk_data...\n",
      "[nltk_data]   Package stopwords is already up-to-date!\n"
     ]
    }
   ],
   "source": [
    "import nltk\n",
    "from nltk.tokenize import word_tokenize\n",
    "from nltk.stem import PorterStemmer, WordNetLemmatizer\n",
    "from nltk.corpus import stopwords\n",
    "nltk.download('wordnet')\n",
    "nltk.download('punkt')\n",
    "nltk.download('stopwords')\n",
    "lemmatizer = WordNetLemmatizer()\n",
    "stemmer = PorterStemmer()"
   ]
  },
  {
   "cell_type": "code",
   "execution_count": 8,
   "metadata": {
    "colab": {},
    "colab_type": "code",
    "id": "RtB9WY00ewxM"
   },
   "outputs": [
    {
     "name": "stdout",
     "output_type": "stream",
     "text": [
      "se procesaron 0 artículos\n",
      "se procesaron 1000 artículos\n",
      "se procesaron 2000 artículos\n",
      "se procesaron 3000 artículos\n",
      "se procesaron 4000 artículos\n",
      "se procesaron 5000 artículos\n",
      "se procesaron 6000 artículos\n",
      "se procesaron 7000 artículos\n",
      "se procesaron 8000 artículos\n",
      "se procesaron 9000 artículos\n",
      "se procesaron 10000 artículos\n",
      "se procesaron 11000 artículos\n"
     ]
    }
   ],
   "source": [
    "#Procesando todos los artículos:\n",
    "articulos_procesados=list()\n",
    "for idx in range(len(twenty_train.data)):\n",
    "    if idx%1000==0:\n",
    "        print(f'se procesaron {idx} artículos')\n",
    "    art=twenty_train.data[idx]\n",
    "    tok=word_tokenize(art)\n",
    "    lem=[lemmatizer.lemmatize(x,pos='v') for x in tok]\n",
    "    stop = [x for x in lem if x not in stopwords.words('english')]\n",
    "    stem=[stemmer.stem(x) for x in stop]\n",
    "    alpha=[x for x in stem if x.isalpha()]\n",
    "    articulos_procesados.append(\" \".join(alpha))"
   ]
  },
  {
   "cell_type": "code",
   "execution_count": 103,
   "metadata": {
    "colab": {},
    "colab_type": "code",
    "id": "PKFI92vSkpv3"
   },
   "outputs": [
    {
     "data": {
      "text/plain": [
       "4"
      ]
     },
     "execution_count": 103,
     "metadata": {},
     "output_type": "execute_result"
    }
   ],
   "source": [
    "# Extracting features from articles\n",
    "from sklearn.feature_extraction.text import CountVectorizer\n",
    "#count_vect = CountVectorizer(max_df=0.8,min_df=20) #chequear que max_df y min_df sean los que se piden\n",
    "count_vect = CountVectorizer(max_df=0.6,min_df=10) #chequear que max_df y min_df sean los que se piden\n",
    "count_vect.fit(articulos_procesados) #Aprende el vocabulario y le asigna un código a cada palabra\n",
    "twenty_train.target[5]"
   ]
  },
  {
   "cell_type": "code",
   "execution_count": 104,
   "metadata": {},
   "outputs": [
    {
     "data": {
      "text/plain": [
       "'comp.sys.mac.hardware'"
      ]
     },
     "execution_count": 104,
     "metadata": {},
     "output_type": "execute_result"
    }
   ],
   "source": [
    "twenty_train.target_names[4]"
   ]
  },
  {
   "cell_type": "code",
   "execution_count": 105,
   "metadata": {},
   "outputs": [
    {
     "data": {
      "text/plain": [
       "'being'"
      ]
     },
     "execution_count": 105,
     "metadata": {},
     "output_type": "execute_result"
    }
   ],
   "source": [
    "lemmatizer.lemmatize('being')"
   ]
  },
  {
   "cell_type": "code",
   "execution_count": 106,
   "metadata": {},
   "outputs": [
    {
     "data": {
      "text/plain": [
       "'presid'"
      ]
     },
     "execution_count": 106,
     "metadata": {},
     "output_type": "execute_result"
    }
   ],
   "source": [
    "stemmer.stem('president')"
   ]
  },
  {
   "cell_type": "code",
   "execution_count": 107,
   "metadata": {},
   "outputs": [
    {
     "data": {
      "text/plain": [
       "11314"
      ]
     },
     "execution_count": 107,
     "metadata": {},
     "output_type": "execute_result"
    }
   ],
   "source": [
    "len(articulos_procesados)"
   ]
  },
  {
   "cell_type": "code",
   "execution_count": 108,
   "metadata": {},
   "outputs": [
    {
     "name": "stdout",
     "output_type": "stream",
     "text": [
      "['aa', 'aaa', 'aaron', 'ab', 'abandon', 'abbrevi', 'abc', 'aberystwyth', 'abid', 'abil', 'abl', 'abnorm', 'aboard', 'abolish', 'abomin', 'abort', 'abound', 'about', 'abov', 'abpsoft', 'abraham', 'abridg', 'abroad', 'absenc', 'absent', 'absolut', 'absorb', 'abstract', 'absurd', 'abund', 'abus', 'ac', 'academ', 'academi', 'academia', 'acc', 'acceler', 'acceller', 'accept', 'access', 'accessori', 'accid', 'accident', 'accommod', 'accomod', 'accompani', 'accompli', 'accomplish', 'accord', 'accordingli', 'account', 'accumul', 'accur', 'accuraci', 'accus', 'ace', 'ach', 'achiev', 'achkar', 'acid', 'ack', 'acker', 'acknowledg', 'aclu', 'acm', 'acquaint', 'acquir', 'acquisit', 'acronym', 'across', 'act', 'action', 'activ', 'activist', 'actual', 'acut', 'ad', 'adam', 'adapt', 'adaptec', 'adaptor', 'adb', 'adc', 'adcom', 'add', 'addict', 'addit', 'addr', 'address', 'adequ', 'adher', 'adirondack', 'adjac', 'adject', 'adjust', 'adl', 'admin', 'administ', 'administr', 'admir', 'admiss', 'admit', 'admittedli', 'adob', 'adolesc', 'adolf', 'adopt', 'adress', 'adrian', 'adult', 'advanc', 'advantag', 'adventist', 'adventur', 'advers', 'advertis', 'advic', 'advis', 'advisor', 'advisori', 'advoc', 'advocaci', 'ae', 'aerial', 'aerodynam', 'aeronaut', 'aerospac', 'aesthet', 'af', 'afair', 'affair', 'affect', 'affili', 'affirm', 'afflict', 'afford', 'afifi', 'aforement', 'afraid', 'africa', 'african', 'after', 'afteral', 'aftermarket', 'afternoon', 'afterward', 'ag', 'again', 'against', 'agdam', 'age', 'agenc', 'agenda', 'agent', 'aggrav', 'aggress', 'agn', 'agnost', 'ago', 'agoni', 'agre', 'agreement', 'agress', 'agricultur', 'ah', 'ahead', 'ahem', 'ahh', 'ahl', 'ahm', 'ahold', 'ahv', 'ai', 'aiaa', 'aid', 'aiken', 'aim', 'aint', 'air', 'airbag', 'aircraft', 'airlin', 'airplan', 'airport', 'aix', 'aj', 'ak', 'aka', 'akin', 'al', 'ala', 'alabama', 'alamo', 'alan', 'alarm', 'alaska', 'albani', 'albeit', 'albert', 'alberta', 'albican', 'album', 'albuquerqu', 'alcohol', 'ale', 'alert', 'alex', 'alexand', 'alfa', 'algorithm', 'algorythm', 'ali', 'alia', 'alias', 'alic', 'alicea', 'alien', 'align', 'alik', 'alink', 'aliv', 'all', 'allah', 'allan', 'alleg', 'allegedli', 'allegheni', 'allen', 'allerg', 'allergi', 'allevi', 'alley', 'alli', 'allianc', 'alloc', 'allow', 'allud', 'almanac', 'almighti', 'almost', 'alomar', 'alon', 'along', 'alot', 'alpha', 'alphabet', 'alreadi', 'alright', 'also', 'alt', 'altar', 'alter', 'altern', 'although', 'altitud', 'alto', 'altogeth', 'aluminum', 'alung', 'alvin', 'alway', 'am', 'ama', 'amanda', 'amateur', 'amaz', 'amazingli', 'ambassador', 'ambigu', 'ambit', 'ambiti', 'ambul', 'amd', 'ame', 'amehdi', 'amen', 'amend', 'america', 'american', 'amherst', 'ami', 'amiga', 'amin', 'amino', 'amir', 'ammend', 'ammo', 'ammunit', 'amnesti', 'amolitor', 'among', 'amongst', 'amount', 'amp', 'ampl', 'amplifi', 'amsterdam', 'amus', 'an', 'ana', 'analog', 'analys', 'analysi', 'analyst', 'analyt', 'analyz', 'anarchi', 'anarchist', 'anatolia', 'ancestor', 'ancestri', 'ancient', 'and', 'anderson', 'andersson', 'andi', 'andr', 'andrea', 'andrew', 'andreychuk', 'andtbacka', 'anecdot', 'angel', 'angelino', 'angelo', 'anger', 'angl', 'angri', 'ani', 'anim', 'ankara', 'ann', 'anna', 'annal', 'annex', 'annihil', 'anniversari', 'announc', 'annoy', 'annual', 'anon', 'anonym', 'anoth', 'ansi', 'answer', 'ant', 'antenna', 'anthoni', 'antibiot', 'anticip', 'antiqu', 'anton', 'antonio', 'anwar', 'anxiou', 'anybodi', 'anyhow', 'anymor', 'anyon', 'anyth', 'anytim', 'anyway', 'anywher', 'aol', 'ap', 'apart', 'api', 'apollo', 'apolog', 'apologist', 'apostl', 'app', 'appal', 'appar', 'apparantli', 'appeal', 'appear', 'appeas', 'append', 'appl', 'applaud', 'applaus', 'applelink', 'appletalk', 'appli', 'applic', 'appoint', 'appreci', 'appressian', 'approach', 'appropri', 'approv', 'approx', 'approxim', 'apr', 'april', 'apt', 'aquina', 'ar', 'arab', 'arabia', 'arafat', 'arbitrari', 'arbitrarili', 'arbor', 'arc', 'arcad', 'archer', 'archi', 'architect', 'architectur', 'archiv', 'are', 'area', 'aren', 'arena', 'arf', 'arg', 'argc', 'argic', 'argu', 'arguabl', 'arguement', 'argument', 'argv', 'ari', 'arian', 'aris', 'aristid', 'arithmet', 'arizona', 'arkansa', 'arlington', 'arm', 'armenia', 'armenian', 'armi', 'armor', 'armori', 'armstrong', 'arnold', 'around', 'arpa', 'arra', 'arrang', 'array', 'arrest', 'arriv', 'arrog', 'arromde', 'arrow', 'arsen', 'art', 'arthur', 'artic', 'articl', 'articul', 'artifact', 'artifici', 'artilleri', 'artist', 'artwork', 'aryan', 'as', 'asap', 'asbesto', 'ascend', 'ascens', 'ascii', 'ash', 'asham', 'ashley', 'asia', 'asian', 'asid', 'ask', 'asleep', 'asp', 'aspect', 'asphalt', 'aspir', 'ass', 'assail', 'assassin', 'assault', 'assembl', 'assert', 'assess', 'asset', 'asshol', 'assign', 'assimil', 'assist', 'associ', 'assort', 'assum', 'assumpt', 'assur', 'astein', 'asteroid', 'astonish', 'astor', 'astray', 'astro', 'astronaut', 'astronom', 'astronomi', 'astrophys', 'asynchron', 'at', 'ata', 'atari', 'atf', 'atheism', 'atheist', 'athen', 'athena', 'athlet', 'ati', 'atkin', 'atla', 'atlant', 'atlanta', 'atleast', 'atm', 'atmospher', 'atom', 'aton', 'atroc', 'att', 'attach', 'attack', 'attain', 'attempt', 'attend', 'attende', 'attent', 'atterlep', 'attest', 'attitud', 'attorney', 'attract', 'attribut', 'au', 'auction', 'aucun', 'audi', 'audienc', 'audio', 'aug', 'augment', 'august', 'augustin', 'aura', 'austin', 'australia', 'australian', 'austria', 'authent', 'author', 'authorit', 'authoritarian', 'authur', 'auto', 'autocad', 'autom', 'automat', 'automobil', 'automot', 'autonomi', 'autr', 'autumn', 'av', 'avail', 'ave', 'aveng', 'avenu', 'averag', 'avg', 'aviat', 'aviv', 'avoid', 'aw', 'await', 'awar', 'award', 'away', 'awd', 'awesom', 'aweto', 'awhil', 'ax', 'axe', 'axelsson', 'axi', 'az', 'azerbaijan', 'azerbaijani', 'azeri', 'azw', 'ba', 'baalk', 'babak', 'babb', 'babe', 'babi', 'babylon', 'bach', 'back', 'backcountri', 'backdoor', 'background', 'backon', 'backup', 'backward', 'bacteri', 'bacteria', 'bad', 'badg', 'badli', 'baerga', 'baffl', 'bag', 'bailey', 'bait', 'bake', 'baker', 'baku', 'balanc', 'baldwin', 'ball', 'ballentin', 'ballist', 'balloon', 'ballot', 'baltimor', 'ban', 'band', 'bandit', 'bandwidth', 'bang', 'bank', 'bankrupt', 'banner', 'baptism', 'baptist', 'baptiz', 'bar', 'barbar', 'barbara', 'barbecu', 'barber', 'bare', 'bargain', 'bark', 'barlow', 'barn', 'baron', 'barrasso', 'barrel', 'barrett', 'barri', 'barrier', 'baru', 'base', 'basebal', 'baseman', 'basement', 'bash', 'basi', 'basic', 'basil', 'basketbal', 'bass', 'bastard', 'bat', 'batch', 'bate', 'batf', 'bath', 'bathroom', 'batman', 'battalion', 'batter', 'batteri', 'battl', 'battlefield', 'baud', 'bay', 'baylor', 'bayonet', 'bb', 'bbc', 'bc', 'bclark', 'bd', 'bdi', 'bdira', 'be', 'beach', 'beacon', 'beal', 'beam', 'bean', 'bear', 'beast', 'beastmast', 'beat', 'beauchain', 'beauti', 'beaverton', 'becaus', 'beck', 'beckman', 'becom', 'becuas', 'bed', 'bedford', 'bedroom', 'bee', 'beef', 'beemer', 'been', 'beep', 'beer', 'befor', 'beforehand', 'beg', 'begin', 'beginn', 'behalf', 'behanna', 'behav', 'behavior', 'behaviour', 'behind', 'behold', 'bei', 'beirut', 'bel', 'beleiv', 'belfour', 'belgium', 'belief', 'believ', 'beliv', 'bell', 'bellcor', 'belli', 'bellovin', 'bellow', 'belong', 'belov', 'below', 'belt', 'beltway', 'ben', 'bench', 'benchmark', 'bend', 'benedikt', 'benefici', 'benefit', 'benevol', 'benign', 'benjamin', 'bennett', 'benson', 'beranek', 'beretta', 'berg', 'berkeley', 'berlin', 'bernard', 'bernoulli', 'bernstein', 'berri', 'berryhil', 'bertrand', 'besid', 'best', 'bet', 'beta', 'beth', 'bethesda', 'betray', 'better', 'between', 'betz', 'beverag', 'beverli', 'bewar', 'beyer', 'beyond', 'bezier', 'bg', 'bgardner', 'bgrubb', 'bh', 'bhj', 'bhjn', 'bi', 'bia', 'bibl', 'biblic', 'bibliographi', 'bicycl', 'bid', 'big', 'bigger', 'biggest', 'bigot', 'bigotri', 'bike', 'biker', 'bil', 'bill', 'billboard', 'billi', 'billion', 'bin', 'binari', 'bind', 'bingo', 'bio', 'biochemistri', 'biolog', 'bird', 'birmingham', 'birth', 'birthday', 'bisexu', 'bishop', 'bissda', 'bissel', 'bit', 'bitch', 'bite', 'bitmap', 'bitnet', 'bitter', 'biz', 'bizarr', 'bj', 'bk', 'bl', 'black', 'blackhawk', 'blacksburg', 'blackshaw', 'blade', 'blah', 'blain', 'blame', 'blank', 'blanket', 'blast', 'blaster', 'blatant', 'blatantli', 'blaze', 'blazer', 'bldg', 'bleed', 'bless', 'blh', 'blind', 'blindli', 'blink', 'blip', 'bliss', 'block', 'blood', 'bloodi', 'bloom', 'blow', 'blue', 'blur', 'blurb', 'blvd', 'bm', 'bmp', 'bmw', 'bmwmoa', 'bn', 'bnc', 'bnr', 'bo', 'board', 'boast', 'boat', 'bob', 'bobb', 'bobbi', 'boca', 'bodi', 'bodili', 'boe', 'bogg', 'bogu', 'bohr', 'boil', 'bois', 'bold', 'bolero', 'bolt', 'bomb', 'bombard', 'bomber', 'bond', 'bone', 'bonner', 'bontchev', 'bonu', 'book', 'bookstor', 'boom', 'boomer', 'boon', 'boost', 'booster', 'boot', 'booth', 'borden', 'border', 'bore', 'bori', 'borland', 'born', 'borrow', 'bosco', 'bosnia', 'bosnian', 'bosox', 'boss', 'boston', 'botch', 'both', 'bother', 'bottl', 'bottleneck', 'bottom', 'boulder', 'boulevard', 'bounc', 'bound', 'boundari', 'bourqu', 'bow', 'bower', 'bowl', 'bowman', 'box', 'boy', 'boycott', 'boyl', 'bp', 'br', 'bracket', 'brad', 'brader', 'bradi', 'bradley', 'brag', 'brain', 'braindead', 'brainwash', 'brake', 'branch', 'brand', 'brandei', 'brandt', 'brass', 'braunschweig', 'brave', 'breach', 'bread', 'break', 'breakdown', 'breaker', 'breakfast', 'breakthrough', 'breakup', 'breast', 'breath', 'breed', 'brendan', 'brent', 'bressler', 'brethren', 'breton', 'brett', 'brewer', 'bri', 'brian', 'brick', 'bridg', 'brief', 'briefli', 'brigham', 'bright', 'brilliant', 'bring', 'brinich', 'bristol', 'brit', 'britain', 'british', 'broad', 'broadcast', 'broadway', 'brochur', 'brock', 'bronx', 'brook', 'brooklin', 'brother', 'broward', 'brown', 'brows', 'bruce', 'bruin', 'bruis', 'bruno', 'brunswick', 'brush', 'brutal', 'brute', 'bryan', 'bs', 'bsd', 'bskendig', 'bt', 'btw', 'bu', 'bubba', 'bubblejet', 'buck', 'bud', 'buddha', 'buddhism', 'buddhist', 'buddi', 'budget', 'buf', 'buffalo', 'buffer', 'bug', 'bugger', 'buggi', 'buick', 'build', 'builder', 'built', 'bulb', 'bulk', 'bull', 'bullet', 'bulletin', 'bulli', 'bullpen', 'bullshit', 'bum', 'bump', 'bumper', 'bunch', 'bundl', 'bunk', 'bunker', 'bunni', 'burden', 'bure', 'bureau', 'bureaucraci', 'bureaucrat', 'burger', 'buri', 'burk', 'burlington', 'burn', 'burnabi', 'burst', 'burstein', 'burster', 'burton', 'bush', 'busi', 'buss', 'bust', 'buster', 'but', 'butcher', 'butler', 'butt', 'button', 'buy', 'buyer', 'buzz', 'bv', 'bw', 'bx', 'by', 'bye', 'byler', 'bypass', 'byte', 'ca', 'cab', 'cabal', 'cabin', 'cabinet', 'cabl', 'cach', 'cad', 'caf', 'cafe', 'caffein', 'cage', 'cager', 'cain', 'cake', 'cal', 'calcul', 'calder', 'calendar', 'calgari', 'calib', 'calibr', 'calif', 'california', 'call', 'callback', 'caller', 'callison', 'calm', 'calmli', 'caltech', 'calvin', 'cam', 'camaro', 'cambodia', 'cambridg', 'camden', 'camel', 'camera', 'camp', 'campaign', 'campbel', 'campu', 'camri', 'can', 'canada', 'canadian', 'canadien', 'canal', 'canberra', 'cancel', 'cancer', 'candi', 'candid', 'candida', 'cannon', 'canon', 'canseco', 'cant', 'canterburi', 'canuck', 'canva', 'canyon', 'cap', 'capabl', 'capac', 'capacit', 'capacitor', 'cape', 'capit', 'capita', 'capitalist', 'captain', 'captur', 'car', 'caralv', 'carb', 'carbon', 'carcinogen', 'card', 'carderock', 'cardin', 'care', 'career', 'cargo', 'cari', 'carl', 'carleton', 'carlo', 'carlton', 'carnegi', 'carol', 'carolina', 'caronni', 'carpent', 'carpet', 'carr', 'carri', 'carriag', 'carrier', 'carrol', 'carson', 'cart', 'carter', 'cartridg', 'carv', 'casar', 'case', 'casey', 'cash', 'casper', 'cassel', 'cassett', 'cast', 'castl', 'castro', 'casual', 'casualti', 'cat', 'catalog', 'catbyt', 'catch', 'catcher', 'categor', 'categori', 'caterpillar', 'cathol', 'cattl', 'caucasian', 'caucasu', 'caus', 'caution', 'cautiou', 'caveat', 'cb', 'cbc', 'cbr', 'cc', 'ccd', 'ccw', 'cd', 'cdc', 'cdrom', 'cdt', 'ce', 'ceas', 'ceccarelli', 'ceil', 'celebr', 'celesti', 'cell', 'cellar', 'cellular', 'censor', 'censorship', 'censu', 'cent', 'centaur', 'center', 'centerlin', 'centr', 'central', 'centri', 'centron', 'centuri', 'ceo', 'cereal', 'ceremoni', 'cern', 'certain', 'certainli', 'certainti', 'certif', 'certifi', 'ceux', 'cf', 'cfb', 'cg', 'cga', 'ch', 'chain', 'chair', 'chairman', 'challeng', 'chamber', 'champ', 'champion', 'championship', 'chan', 'chanc', 'chang', 'channel', 'chant', 'chao', 'chap', 'chapel', 'chapman', 'chapter', 'char', 'charact', 'character', 'characterist', 'charg', 'charger', 'chariti', 'charl', 'charley', 'charli', 'charlottesvil', 'charm', 'chart', 'charter', 'chase', 'chassi', 'chastiti', 'chat', 'chatham', 'cheap', 'cheaper', 'cheapest', 'cheapli', 'cheat', 'check', 'checker', 'cheek', 'cheer', 'chees', 'chelio', 'chelmsford', 'chemic', 'chemist', 'chemistri', 'chen', 'cherri', 'chest', 'chevi', 'chevron', 'chew', 'chhabra', 'chi', 'chicago', 'chicken', 'chief', 'child', 'childhood', 'childish', 'children', 'chill', 'chin', 'china', 'chines', 'chintan', 'chip', 'chipset', 'chiu', 'chocol', 'choic', 'choke', 'choos', 'chop', 'chord', 'choru', 'chri', 'christ', 'christi', 'christian', 'christma', 'christoph', 'chrome', 'chronic', 'chronicl', 'chrysler', 'chuck', 'chuckl', 'chunk', 'church', 'churchil', 'ci', 'cia', 'cica', 'cigarett', 'cincinnati', 'cipher', 'ciphertext', 'cipriani', 'circa', 'circl', 'circuit', 'circuitri', 'circul', 'circular', 'circumcis', 'circumfer', 'circumst', 'cirru', 'cisc', 'citat', 'cite', 'citi', 'citizen', 'citizenship', 'civic', 'civil', 'civilian', 'cjackson', 'ck', 'ckinci', 'cl', 'claim', 'clair', 'clamp', 'clara', 'claremont', 'clarif', 'clarifi', 'clarinet', 'clariti', 'clark', 'clarkson', 'clash', 'class', 'classi', 'classic', 'classif', 'classifi', 'classroom', 'claud', 'claudio', 'claus', 'claw', 'clay', 'clayton', 'clean', 'cleaner', 'cleans', 'clear', 'clearanc', 'clearer', 'clearli', 'clemen', 'clement', 'clemson', 'cleveland', 'clever', 'clh', 'click', 'client', 'cliff', 'climat', 'climb', 'clinic', 'clinton', 'clip', 'clipper', 'clive', 'cloak', 'clock', 'clockwis', 'clone', 'close', 'closer', 'closest', 'closet', 'closur', 'cloth', 'cloud', 'clown', 'club', 'clue', 'clueless', 'cluster', 'clutch', 'clyde', 'cm', 'cmk', 'cmo', 'cmu', 'cnn', 'co', 'coach', 'coal', 'coalit', 'coast', 'coat', 'coax', 'cobb', 'cobra', 'cocain', 'cochran', 'cock', 'cod', 'code', 'codec', 'codifi', 'coerc', 'coercion', 'coexist', 'coffe', 'coffey', 'coffman', 'cognit', 'cohen', 'coher', 'coil', 'coin', 'coincid', 'coincident', 'col', 'cold', 'cole', 'coleman', 'colin', 'collabor', 'collaps', 'colleagu', 'collect', 'collector', 'colleg', 'collid', 'collin', 'collingridg', 'collis', 'colon', 'colonel', 'coloni', 'color', 'colorado', 'colormap', 'colour', 'colt', 'columbia', 'columbu', 'column', 'com', 'comatos', 'comb', 'combat', 'combin', 'combo', 'combust', 'come', 'comeback', 'comedi', 'comet', 'comfort', 'comic', 'comm', 'command', 'commemor', 'commenc', 'comment', 'commentari', 'commer', 'commerc', 'commerci', 'commi', 'commiss', 'commission', 'commit', 'committe', 'commodor', 'common', 'commonli', 'commonwealth', 'commun', 'communion', 'communist', 'commut', 'comp', 'compact', 'compani', 'companion', 'compaq', 'compar', 'comparison', 'compart', 'compass', 'compat', 'compel', 'compens', 'compet', 'competit', 'competitor', 'compil', 'complain', 'complaint', 'complet', 'complex', 'compli', 'complianc', 'complic', 'compliment', 'compon', 'compos', 'composit', 'compound', 'comprehend', 'comprehens', 'compress', 'compressor', 'compris', 'compromis', 'compton', 'compuls', 'compuserv', 'comput', 'con', 'concaten', 'conceal', 'conced', 'conceiv', 'concentr', 'concept', 'conceptu', 'concern', 'concert', 'concess', 'concis', 'conclud', 'conclus', 'concord', 'concordia', 'concour', 'concret', 'concur', 'concurr', 'concuss', 'condemn', 'condens', 'condit', 'conditt', 'condon', 'conduct', 'conductor', 'cone', 'conf', 'confer', 'confess', 'confid', 'confidenti', 'config', 'configur', 'confin', 'confirm', 'confisc', 'conflict', 'conform', 'confront', 'confus', 'congeni', 'congratul', 'congreg', 'congress', 'congression', 'conjoin', 'conjunct', 'connect', 'connecticut', 'connector', 'conner', 'connor', 'conquer', 'conquest', 'conscienc', 'consciou', 'conscious', 'consecut', 'consensu', 'consent', 'consequ', 'conserv', 'consid', 'consider', 'consist', 'consol', 'consolid', 'consortium', 'conspiraci', 'constant', 'constantli', 'constitu', 'constitut', 'constrain', 'constraint', 'constru', 'construct', 'consult', 'consum', 'consumpt', 'cont', 'contact', 'contain', 'contamin', 'contempl', 'contemporari', 'contempt', 'contend', 'content', 'contest', 'context', 'contin', 'continent', 'conting', 'continu', 'contour', 'contract', 'contractor', 'contradict', 'contradictori', 'contrari', 'contrast', 'contrib', 'contribut', 'contributor', 'control', 'controversi', 'conven', 'conveni', 'convent', 'convers', 'convert', 'convex', 'convey', 'convict', 'convinc', 'cook', 'cookamunga', 'cooki', 'cookson', 'cool', 'cooper', 'coordin', 'cop', 'cope', 'copenhagen', 'copi', 'copper', 'coprocessor', 'copyright', 'cor', 'cord', 'cordial', 'cordless', 'core', 'corel', 'coreldraw', 'corinthian', 'corn', 'cornel', 'corner', 'corolla', 'corp', 'corpor', 'corps', 'corpu', 'corrado', 'correct', 'correctli', 'correl', 'correspond', 'corrupt', 'corval', 'corvett', 'cosmic', 'cosmo', 'cost', 'costa', 'costli', 'could', 'council', 'counsel', 'count', 'counter', 'counterpart', 'counterst', 'counti', 'countless', 'countri', 'coup', 'coupl', 'courag', 'courier', 'cours', 'court', 'courtesi', 'courtnal', 'cousin', 'cousineau', 'coven', 'coventri', 'cover', 'coverag', 'covert', 'covington', 'cow', 'coward', 'cowboy', 'cox', 'cp', 'cpr', 'cpsr', 'cpu', 'cr', 'crack', 'cracker', 'cradl', 'craft', 'craig', 'cramer', 'crank', 'crap', 'crari', 'crash', 'craven', 'crawl', 'cray', 'crazi', 'cream', 'creat', 'creation', 'creationist', 'creativ', 'creator', 'creatur', 'credenc', 'credibl', 'credit', 'creed', 'creep', 'crew', 'cri', 'crime', 'crimin', 'crippl', 'crisi', 'crisp', 'criteria', 'criterion', 'critic', 'critiqu', 'crohn', 'croir', 'croni', 'crook', 'crop', 'cross', 'crosspost', 'crow', 'crowd', 'crowley', 'crown', 'crt', 'cruce', 'crucial', 'crucifi', 'crucifixion', 'crude', 'cruel', 'cruelti', 'cruis', 'cruiser', 'crunch', 'cruncher', 'crusad', 'crush', 'cruz', 'crypt', 'cryptanalysi', 'crypto', 'cryptograph', 'cryptographi', 'cryptolog', 'cryptosystem', 'crystal', 'cs', 'csc', 'csh', 'csiro', 'ct', 'ctr', 'ctrl', 'cu', 'cub', 'cube', 'cubic', 'cullen', 'culmin', 'cult', 'cultist', 'cultur', 'cum', 'cunningham', 'cup', 'cupertino', 'curcio', 'cure', 'curios', 'curiou', 'curious', 'currenc', 'current', 'curs', 'cursor', 'curt', 'curtain', 'curti', 'curv', 'custodi', 'custom', 'cut', 'cute', 'cutoff', 'cv', 'cview', 'cw', 'cwru', 'cx', 'cy', 'cyberspac', 'cycl', 'cyclon', 'cylind', 'cynic', 'cypress', 'cypru', 'cyrix', 'czech', 'da', 'dad', 'daddi', 'daemon', 'dahlen', 'daigl', 'daili', 'daker', 'dakota', 'dale', 'dalhousi', 'dalla', 'damag', 'dame', 'dammit', 'damn', 'damnat', 'damphouss', 'dan', 'dana', 'danc', 'dane', 'dang', 'danger', 'daniel', 'danni', 'dare', 'daric', 'dariu', 'dark', 'darken', 'darker', 'darkman', 'darn', 'darrel', 'darren', 'darryl', 'dartmouth', 'daryl', 'dash', 'dat', 'data', 'databas', 'date', 'daughter', 'dave', 'davet', 'davi', 'david', 'davidian', 'davidson', 'davidsson', 'dawn', 'dawson', 'day', 'daylight', 'daytim', 'dayton', 'db', 'dbd', 'dbernard', 'dc', 'dcd', 'dchhabra', 'dcr', 'dcx', 'dd', 'dduff', 'de', 'dea', 'dead', 'deadli', 'deadlin', 'deal', 'dealer', 'dealership', 'dean', 'dear', 'death', 'debat', 'debri', 'debt', 'debug', 'debugg', 'debunk', 'dec', 'decad', 'decay', 'deceit', 'deceiv', 'decemb', 'decenso', 'decent', 'decept', 'decid', 'decim', 'deciph', 'decis', 'deck', 'declar', 'declin', 'decnet', 'decod', 'decor', 'decre', 'decreas', 'decrypt', 'decstat', 'decvax', 'dedic', 'deduc', 'deduct', 'deed', 'deem', 'deep', 'deepak', 'deeper', 'deepli', 'deer', 'default', 'defeat', 'defect', 'defenc', 'defend', 'defens', 'defenseless', 'defenseman', 'defensemen', 'defi', 'defici', 'deficit', 'defin', 'definit', 'deforest', 'degener', 'degrad', 'degre', 'dehydr', 'deir', 'deiti', 'del', 'delawar', 'delay', 'deleg', 'delet', 'deliber', 'delic', 'delight', 'deliv', 'deliveri', 'dell', 'delta', 'delus', 'delux', 'demand', 'demer', 'demo', 'democraci', 'democrat', 'demograph', 'demolish', 'demon', 'demonstr', 'den', 'deni', 'denial', 'denmark', 'denni', 'denomin', 'denot', 'denounc', 'dens', 'densiti', 'dent', 'denver', 'depart', 'depend', 'deplor', 'deploy', 'deport', 'deposit', 'depress', 'depriv', 'dept', 'depth', 'deputi', 'der', 'derbi', 'derek', 'deriv', 'descend', 'descent', 'describ', 'descript', 'desert', 'deserv', 'design', 'desir', 'desk', 'deskjet', 'desktop', 'desonia', 'despair', 'desper', 'despis', 'despit', 'destin', 'destroy', 'destruct', 'det', 'detach', 'detail', 'detect', 'detector', 'deter', 'deterior', 'determin', 'deterr', 'deton', 'detriment', 'detroit', 'deuterium', 'deuteronomi', 'dev', 'devast', 'develop', 'deviat', 'devic', 'devil', 'devis', 'devoid', 'devot', 'devout', 'dh', 'di', 'diabet', 'diagnos', 'diagnosi', 'diagnost', 'diagram', 'dial', 'dialog', 'dialogu', 'diamet', 'diamond', 'diari', 'dice', 'dick', 'dictat', 'dictatorship', 'dictionari', 'did', 'didnt', 'die', 'diego', 'diet', 'dietari', 'dietz', 'diff', 'differ', 'differenti', 'difficult', 'difficulti', 'diffus', 'dig', 'digest', 'digit', 'digniti', 'digress', 'dilemma', 'dillon', 'dilut', 'dim', 'dime', 'dimens', 'dimension', 'diminish', 'din', 'dineen', 'ding', 'dinner', 'diod', 'dip', 'diplomaci', 'diplomat', 'dippold', 'dir', 'dire', 'direct', 'directli', 'director', 'directori', 'dirt', 'dirti', 'disabl', 'disadvantag', 'disagr', 'disagre', 'disappear', 'disappoint', 'disapprov', 'disarm', 'disassembl', 'disast', 'disbelief', 'disbeliev', 'disc', 'discard', 'discern', 'discharg', 'discipl', 'disciplin', 'disclaim', 'disclos', 'disclosur', 'discomfort', 'disconnect', 'discontinu', 'discount', 'discourag', 'discours', 'discov', 'discoveri', 'discredit', 'discrep', 'discret', 'discrimin', 'discus', 'discuss', 'diseas', 'disguis', 'disgust', 'dish', 'dishonest', 'disinform', 'disk', 'diskett', 'dislik', 'dismantl', 'dismiss', 'disobedi', 'disobey', 'disord', 'disorgan', 'dispens', 'dispers', 'displac', 'display', 'dispos', 'disproportion', 'disprov', 'disput', 'disregard', 'disrupt', 'dissemin', 'dissid', 'dissolv', 'dist', 'distanc', 'distant', 'distinct', 'distinctli', 'distinguish', 'distort', 'distract', 'distress', 'distribut', 'distributor', 'district', 'disturb', 'dither', 'ditto', 'div', 'dive', 'diverg', 'divers', 'divert', 'divid', 'dividian', 'divin', 'divis', 'divorc', 'dixon', 'dizzi', 'dj', 'dl', 'dlecoint', 'dm', 'dma', 'dmm', 'dn', 'dna', 'do', 'dobb', 'doc', 'dock', 'doctor', 'doctrin', 'document', 'documentari', 'dod', 'dodg', 'dodger', 'doe', 'doesnt', 'dog', 'dogma', 'dogmat', 'doh', 'dollar', 'dolphin', 'domain', 'dome', 'domest', 'domi', 'domin', 'dominion', 'domino', 'don', 'donald', 'donat', 'donb', 'donna', 'donnelli', 'dont', 'doom', 'door', 'doorstep', 'doright', 'dorin', 'dorothi', 'dorsey', 'dortmund', 'dosag', 'dose', 'dot', 'doubl', 'doubt', 'doubter', 'doug', 'dougb', 'dougla', 'down', 'downey', 'download', 'downtown', 'downward', 'dozen', 'dp', 'dpi', 'dr', 'draft', 'drag', 'dragon', 'drain', 'drake', 'dram', 'dramat', 'drastic', 'draw', 'drawback', 'drawer', 'dread', 'dream', 'dresden', 'dress', 'drew', 'dri', 'drift', 'drill', 'drink', 'drive', 'drivel', 'driver', 'driveway', 'dro', 'droopi', 'drop', 'drown', 'drug', 'drum', 'drunken', 'dryden', 'ds', 'dsg', 'dsp', 'dt', 'dtmedin', 'du', 'dual', 'duan', 'dubiou', 'dublin', 'duc', 'ducati', 'duck', 'dude', 'due', 'duff', 'duh', 'duke', 'dull', 'dumb', 'dumbest', 'dump', 'duncan', 'dunn', 'dunno', 'duo', 'dupe', 'duplic', 'durat', 'dure', 'durham', 'dust', 'dutch', 'duti', 'dwarf', 'dwarner', 'dwell', 'dwi', 'dwight', 'dx', 'dy', 'dye', 'dyer', 'dykstra', 'dynam', 'dynasti', 'dyoung', 'ea', 'each', 'eager', 'eagerli', 'eagl', 'ear', 'earl', 'earli', 'earlier', 'earliest', 'earn', 'earth', 'earthli', 'eas', 'easi', 'easier', 'easiest', 'easili', 'east', 'easter', 'eastern', 'eat', 'eau', 'eavesdrop', 'eb', 'ebosco', 'ebrandt', 'ebright', 'ec', 'eccentr', 'ecclesiast', 'echo', 'eclips', 'econom', 'economi', 'ed', 'eddi', 'eden', 'edg', 'edgar', 'edinburgh', 'edit', 'editor', 'editori', 'edm', 'edmonton', 'edt', 'edu', 'educ', 'edward', 'ee', 'eec', 'eff', 'effect', 'effici', 'effort', 'eg', 'ega', 'egg', 'ego', 'egreen', 'egypt', 'egyptian', 'eh', 'ehrlich', 'ei', 'eight', 'eighth', 'eighti', 'eindhoven', 'einstein', 'einstien', 'eisa', 'either', 'eject', 'eklund', 'el', 'elabor', 'elbow', 'elder', 'elderli', 'elec', 'elect', 'electr', 'electrolyt', 'electromagnet', 'electron', 'eleg', 'elektronen', 'element', 'elementari', 'eleph', 'elev', 'eleven', 'eli', 'elia', 'elig', 'elimin', 'eliot', 'elit', 'elizabeth', 'ella', 'elli', 'elliot', 'ellison', 'elm', 'eloqu', 'els', 'elsewher', 'elvi', 'em', 'emac', 'email', 'emb', 'embarass', 'embargo', 'embarrass', 'embassi', 'embrac', 'emerg', 'emerson', 'emin', 'emiss', 'emit', 'emori', 'emot', 'emphas', 'emphasi', 'empir', 'employ', 'employe', 'empti', 'emul', 'en', 'enabl', 'enact', 'encapsul', 'enclav', 'enclos', 'encod', 'encompass', 'encor', 'encount', 'encourag', 'encrypt', 'encyclopedia', 'end', 'endang', 'endeavor', 'endeavour', 'endif', 'endless', 'endors', 'endow', 'endur', 'enemi', 'energi', 'enforc', 'eng', 'engag', 'engin', 'england', 'english', 'englishman', 'enhanc', 'enjoy', 'enlarg', 'enlighten', 'enorm', 'enough', 'enquiri', 'enrich', 'ensu', 'ensur', 'entail', 'enter', 'enterpris', 'entertain', 'enthusiast', 'entir', 'entireti', 'entiti', 'entitl', 'entranc', 'entri', 'entropi', 'envelop', 'envi', 'environ', 'environment', 'envis', 'enzo', 'enzym', 'eo', 'ep', 'epa', 'ephesian', 'epidem', 'episod', 'epistl', 'epson', 'eq', 'equal', 'equat', 'equip', 'equival', 'er', 'era', 'eras', 'erect', 'ergo', 'ergonom', 'eric', 'erickson', 'ericsson', 'erik', 'erl', 'erni', 'eros', 'err', 'erron', 'error', 'erzurum', 'es', 'esa', 'esc', 'escal', 'escap', 'escort', 'escrow', 'esdi', 'eshneken', 'esin', 'esoter', 'esp', 'especi', 'espionag', 'espn', 'espous', 'essay', 'essenc', 'essensa', 'essenti', 'est', 'establish', 'estat', 'esteem', 'estim', 'et', 'etc', 'etern', 'ethan', 'ether', 'ethernet', 'ethic', 'ethnic', 'etxonss', 'etymolog', 'eu', 'eugen', 'euro', 'europ', 'european', 'evacu', 'evad', 'evalu', 'evan', 'evangel', 'evangelist', 'evanston', 'evas', 'eve', 'evelyn', 'even', 'event', 'eventu', 'ever', 'everett', 'everi', 'everybodi', 'everyday', 'everyon', 'everyth', 'everytim', 'everywher', 'evid', 'evil', 'evolut', 'evolutionari', 'evolv', 'ew', 'ex', 'exact', 'exactli', 'exagger', 'exam', 'examin', 'exampl', 'exceed', 'excel', 'except', 'excerpt', 'excess', 'exchang', 'excit', 'exclud', 'exclus', 'excus', 'exec', 'execut', 'exempt', 'exercis', 'exhaust', 'exhibit', 'exist', 'exit', 'exodu', 'exot', 'exp', 'expand', 'expans', 'expect', 'expedit', 'expel', 'expend', 'expenditur', 'expens', 'experi', 'experiment', 'expert', 'expertis', 'expir', 'explain', 'explan', 'explicit', 'explicitli', 'explod', 'exploit', 'explor', 'explos', 'expo', 'export', 'expos', 'exposur', 'expound', 'express', 'expressli', 'expuls', 'ext', 'extend', 'extens', 'extent', 'exterior', 'extermin', 'extern', 'extinguish', 'extort', 'extra', 'extract', 'extraordinari', 'extrapol', 'extrem', 'extremist', 'eye', 'eyewit', 'faa', 'fabric', 'face', 'fachbereich', 'facil', 'facilit', 'fact', 'faction', 'facto', 'factor', 'factori', 'factual', 'faculti', 'fade', 'fahrenheit', 'fail', 'failur', 'faint', 'fair', 'fairbank', 'fairli', 'fait', 'faith', 'fake', 'fall', 'fallaci', 'fals', 'falsehood', 'fame', 'famili', 'familiar', 'famou', 'fan', 'fanat', 'fanci', 'fantasi', 'fantast', 'faq', 'far', 'fare', 'farenebt', 'farley', 'farm', 'farmer', 'farther', 'fascin', 'fascism', 'fascist', 'fashion', 'fast', 'faster', 'fastest', 'fat', 'fatal', 'fate', 'father', 'fatigu', 'fatwa', 'fault', 'faulti', 'favor', 'favorit', 'favour', 'favourit', 'fax', 'fbi', 'fbihh', 'fc', 'fcc', 'fcrari', 'fd', 'fda', 'fe', 'fear', 'feasibl', 'feast', 'feat', 'featur', 'feb', 'februari', 'fed', 'feder', 'federalist', 'fedorov', 'fee', 'feed', 'feedback', 'feel', 'feet', 'feigenbaum', 'felix', 'fell', 'fellow', 'fellowship', 'felon', 'feloni', 'felt', 'fema', 'femal', 'feminist', 'fenc', 'fender', 'ferment', 'fermi', 'fermilab', 'fertil', 'festiv', 'fetch', 'feustel', 'fever', 'few', 'fewer', 'ff', 'fg', 'fi', 'fiber', 'fiction', 'fiddl', 'fide', 'fido', 'fidonet', 'field', 'fielder', 'fierkelab', 'fifteen', 'fifth', 'fifti', 'fight', 'fighter', 'figur', 'file', 'filenam', 'fill', 'film', 'filter', 'fin', 'final', 'financ', 'financi', 'find', 'fine', 'finger', 'finish', 'finit', 'finland', 'finney', 'finnish', 'fire', 'firearm', 'firepow', 'firm', 'firmli', 'firmwar', 'first', 'firstclass', 'firstli', 'fiscal', 'fischer', 'fish', 'fisher', 'fission', 'fist', 'fit', 'five', 'fix', 'fixat', 'fj', 'fl', 'flag', 'flame', 'flash', 'flashlight', 'flat', 'flatten', 'flavor', 'flaw', 'flee', 'fleet', 'flesh', 'fletcher', 'flex', 'flexibl', 'fli', 'flicker', 'flight', 'flint', 'flip', 'float', 'flock', 'flood', 'floor', 'floppi', 'florida', 'flourish', 'flow', 'flower', 'floyd', 'fluctuat', 'fluid', 'fluke', 'fluoresc', 'flush', 'flybi', 'flyer', 'fm', 'fo', 'foam', 'foard', 'focu', 'fodder', 'foe', 'fog', 'foil', 'foke', 'fold', 'folk', 'folli', 'follow', 'followup', 'font', 'foo', 'food', 'fool', 'foolish', 'foot', 'footag', 'footbal', 'footnot', 'for', 'forb', 'forbid', 'forc', 'forcibl', 'ford', 'forecast', 'foreground', 'foreign', 'foremost', 'forest', 'forev', 'forfeitur', 'forg', 'forget', 'forgiv', 'fork', 'form', 'formal', 'format', 'former', 'formerli', 'formul', 'formula', 'forrest', 'forsal', 'forsberg', 'fort', 'forth', 'forti', 'fortran', 'fortun', 'forum', 'forward', 'fossil', 'foster', 'foul', 'found', 'foundat', 'founder', 'four', 'fourth', 'fox', 'fp', 'fpu', 'fr', 'fractal', 'fraction', 'fraer', 'fragil', 'fragment', 'frame', 'framework', 'franc', 'franchis', 'franci', 'francisco', 'frank', 'frankli', 'franklin', 'frantic', 'fraser', 'fraud', 'freak', 'fred', 'frederick', 'free', 'freedom', 'freeli', 'freeman', 'freenet', 'freewar', 'freeway', 'freez', 'french', 'freq', 'frequenc', 'frequent', 'fresh', 'freshman', 'fri', 'friday', 'friedman', 'friedrich', 'friend', 'friendli', 'friendship', 'frighten', 'fring', 'fritz', 'frog', 'front', 'frontier', 'frost', 'fruit', 'frustrat', 'ft', 'ftp', 'fu', 'fuck', 'fudg', 'fuel', 'fuer', 'fuhr', 'fujitsu', 'fulfil', 'fulk', 'full', 'fuller', 'fulli', 'fun', 'function', 'fund', 'fundament', 'fundamentalist', 'funni', 'furnish', 'further', 'furthermor', 'fuse', 'fusi', 'fusion', 'fuss', 'futil', 'futur', 'fuzzi', 'fwd', 'fx', 'fxwg', 'fyi', 'ga', 'gaa', 'gabriel', 'gadget', 'gag', 'gain', 'gainey', 'gajarski', 'gal', 'galact', 'galarraga', 'galatian', 'galaxi', 'galileo', 'gallagh', 'galley', 'gallichio', 'galvan', 'game', 'gamma', 'gang', 'gap', 'garag', 'garbag', 'garden', 'gardner', 'garfiel', 'gari', 'garrett', 'garrison', 'gartner', 'gasket', 'gasolin', 'gasp', 'gate', 'gatech', 'gateway', 'gather', 'gaudreau', 'gaug', 'gay', 'gaza', 'gazan', 'gb', 'gballent', 'gc', 'gcc', 'gd', 'ge', 'gear', 'geb', 'gee', 'geez', 'gehrel', 'gehrig', 'gel', 'gem', 'gender', 'gene', 'gener', 'genesi', 'genet', 'geni', 'geniu', 'genius', 'genocid', 'gentil', 'gentl', 'gentleman', 'gentlemen', 'gentli', 'genuin', 'geo', 'geoff', 'geoffrey', 'geograph', 'geolog', 'geometr', 'geometri', 'geophys', 'georg', 'georgetown', 'georgia', 'gerald', 'gerard', 'gerhard', 'german', 'germani', 'germano', 'gerri', 'gestapo', 'gestur', 'get', 'gf', 'gg', 'ggrrrrrr', 'ghetto', 'ghj', 'ghost', 'gi', 'giant', 'gibbon', 'gibson', 'gideon', 'gif', 'gift', 'gig', 'gil', 'gilbert', 'gill', 'gilmour', 'girl', 'girlfriend', 'give', 'given', 'giz', 'gk', 'gl', 'glad', 'gladli', 'glanc', 'glang', 'glare', 'glasgow', 'glass', 'gld', 'glean', 'glen', 'glenden', 'glenn', 'glide', 'glimps', 'glitch', 'global', 'globe', 'glock', 'glori', 'glorifi', 'gloriou', 'glove', 'glow', 'glucos', 'glue', 'glutam', 'gm', 'gmt', 'gnp', 'gnu', 'go', 'goal', 'goali', 'goaltend', 'goat', 'god', 'goddamn', 'goddard', 'goddess', 'goer', 'golan', 'golchowi', 'gold', 'golden', 'golf', 'gon', 'gone', 'gonzal', 'gonzalez', 'goo', 'gooch', 'good', 'goodby', 'goodi', 'gopher', 'gordon', 'gore', 'gorman', 'gosh', 'gospel', 'got', 'gourd', 'gourmet', 'gov', 'gover', 'govern', 'government', 'governor', 'govt', 'goyal', 'gozer', 'gp', 'gq', 'gr', 'grab', 'graca', 'grace', 'grad', 'grade', 'gradi', 'gradient', 'gradual', 'graduat', 'graham', 'grain', 'grammar', 'grand', 'grandfath', 'grandmoth', 'grandpar', 'grant', 'graph', 'graphic', 'grasp', 'grass', 'grate', 'grave', 'gravit', 'graviti', 'gray', 'grayscal', 'great', 'greater', 'greatest', 'greatli', 'greec', 'greed', 'greek', 'green', 'greenbelt', 'greenberg', 'greet', 'greg', 'gregg', 'gregmeist', 'gregori', 'grenad', 'gretzki', 'grey', 'grid', 'gridlock', 'grief', 'griffith', 'grill', 'grin', 'grind', 'grip', 'gripe', 'gross', 'grossli', 'ground', 'group', 'grove', 'grow', 'growth', 'grubb', 'gs', 'gspira', 'gt', 'gtoal', 'gu', 'guarante', 'guard', 'guardian', 'guday', 'guerilla', 'guess', 'guest', 'gui', 'guid', 'guidanc', 'guidelin', 'guilt', 'guilti', 'guis', 'guitar', 'gulf', 'gum', 'gun', 'gunfir', 'gup', 'guru', 'gut', 'guy', 'guyd', 'gv', 'gw', 'gwm', 'gx', 'gxxor', 'ha', 'haa', 'haapanen', 'hab', 'habit', 'hack', 'hacker', 'had', 'haddi', 'hade', 'haggl', 'hail', 'hain', 'hair', 'hal', 'halat', 'half', 'halfway', 'halifax', 'hall', 'hallam', 'halt', 'halv', 'ham', 'hama', 'hamaza', 'hambidg', 'hamburg', 'hamdan', 'hamer', 'hamilton', 'hammer', 'hammerl', 'hamper', 'hampshir', 'hampton', 'han', 'hand', 'handbook', 'hander', 'handgun', 'handheld', 'handi', 'handl', 'handlebar', 'handler', 'handshak', 'handwrit', 'hang', 'hank', 'hannib', 'hanov', 'hansen', 'hanson', 'happen', 'happi', 'happier', 'happili', 'har', 'harass', 'harbor', 'hard', 'harddisk', 'harden', 'harder', 'hardest', 'hardli', 'hardwar', 'harley', 'harm', 'harmless', 'harmon', 'harmoni', 'harold', 'harper', 'harri', 'harrison', 'harsh', 'hart', 'hartford', 'hartman', 'harvard', 'harvey', 'hasan', 'hash', 'hassl', 'hast', 'hasti', 'hat', 'hatch', 'hatcher', 'hate', 'hatr', 'haul', 'hav', 'have', 'haven', 'hawaii', 'hawgood', 'hawk', 'hay', 'hazard', 'hc', 'hci', 'hd', 'hdd', 'he', 'head', 'headach', 'header', 'headlight', 'headlin', 'headphon', 'headquart', 'heal', 'heali', 'healta', 'health', 'healthi', 'heap', 'hear', 'heart', 'heat', 'heater', 'heath', 'heaven', 'heavenli', 'heavi', 'heavier', 'heavili', 'hebrew', 'heck', 'heel', 'heh', 'height', 'heinlein', 'heir', 'held', 'helen', 'helicopt', 'hell', 'hellman', 'hello', 'helmet', 'help', 'helper', 'helpless', 'helsinki', 'hen', 'henc', 'henderson', 'hendrick', 'hennessi', 'henri', 'henrik', 'her', 'hera', 'herb', 'herbert', 'hercul', 'herd', 'here', 'herebi', 'herein', 'heresi', 'heret', 'heritag', 'hernandez', 'herndon', 'hernlem', 'hero', 'heroic', 'heroin', 'herringshaw', 'hesit', 'hess', 'het', 'heterosexu', 'hewlett', 'hex', 'hextal', 'hey', 'hezbollah', 'hf', 'hi', 'hide', 'hideou', 'hierarchi', 'higgin', 'high', 'higher', 'highest', 'highland', 'highli', 'highlight', 'highway', 'hike', 'hilari', 'hill', 'hillari', 'him', 'himself', 'hing', 'hint', 'hip', 'hiram', 'hire', 'hispan', 'histor', 'histori', 'historian', 'hit', 'hite', 'hitler', 'hitter', 'hizbollah', 'hj', 'hm', 'hmm', 'hmmm', 'hmmmm', 'hn', 'ho', 'hoax', 'hobb', 'hobbi', 'hobokenit', 'hoc', 'hockey', 'hofferbert', 'hog', 'hold', 'holder', 'hole', 'holi', 'holiday', 'holland', 'holli', 'hollow', 'holloway', 'hollywood', 'holm', 'holmdel', 'holocaust', 'home', 'homeland', 'homeless', 'homeopathi', 'homer', 'homerun', 'homewood', 'homework', 'homicid', 'hominem', 'homo', 'homosexu', 'honda', 'honest', 'honesti', 'honestli', 'hong', 'honk', 'honor', 'honour', 'hood', 'hook', 'hop', 'hope', 'hopkin', 'horizon', 'horizont', 'hormon', 'horn', 'hornet', 'horrend', 'horribl', 'horrifi', 'horror', 'hors', 'horsepow', 'hose', 'hospit', 'hossien', 'host', 'hostag', 'hostil', 'hot', 'hotel', 'hotlin', 'hound', 'hour', 'hous', 'household', 'housley', 'houston', 'how', 'howard', 'howdi', 'howel', 'howev', 'howl', 'howland', 'hp', 'hplab', 'hq', 'hr', 'hrivnak', 'hrudey', 'hs', 'hst', 'hsu', 'ht', 'hu', 'huang', 'hub', 'hubbl', 'hudson', 'huey', 'hug', 'huge', 'hugh', 'huh', 'hulk', 'hull', 'human', 'humanist', 'humanitarian', 'humbl', 'humili', 'humor', 'humour', 'hundr', 'hung', 'hungri', 'hunt', 'hunter', 'huntsvil', 'hurl', 'hurri', 'hurrican', 'hurt', 'husband', 'hussein', 'hut', 'hv', 'hw', 'hwang', 'hydro', 'hydrogen', 'hype', 'hypocrisi', 'hypocrit', 'hypothes', 'hypothesi', 'hypothet', 'hyster', 'hz', 'ia', 'ian', 'ibm', 'ic', 'icbm', 'ice', 'iceland', 'icon', 'id', 'ida', 'idacom', 'idaho', 'ide', 'idea', 'ideal', 'idealist', 'ident', 'identif', 'identifi', 'ideolog', 'idf', 'idiot', 'idl', 'ie', 'ieee', 'if', 'iftccu', 'ignit', 'ignor', 'ihl', 'ii', 'iici', 'iicx', 'iifx', 'iii', 'iisi', 'iivx', 'ij', 'ik', 'il', 'ill', 'illeg', 'illinoi', 'illiter', 'illumin', 'illus', 'illustr', 'ilyess', 'im', 'ima', 'imag', 'imageri', 'imagewrit', 'imagin', 'imaginari', 'imak', 'imam', 'imho', 'imit', 'immacul', 'immatur', 'immedi', 'immens', 'immigr', 'immin', 'immor', 'immort', 'immun', 'imo', 'impact', 'impair', 'impeach', 'imped', 'imperfect', 'imperi', 'implement', 'impli', 'implic', 'implicit', 'implicitli', 'impliment', 'import', 'importantli', 'impos', 'imposs', 'impract', 'impress', 'imprison', 'improp', 'improv', 'impuls', 'impun', 'in', 'inabl', 'inaccur', 'inaccuraci', 'inact', 'inadequ', 'inalien', 'inappropri', 'inc', 'incap', 'incarcer', 'incarn', 'incent', 'inch', 'incid', 'incident', 'inclin', 'includ', 'inclus', 'incom', 'incompat', 'incompet', 'incomplet', 'inconsist', 'inconveni', 'incorpor', 'incorrect', 'incorrectli', 'increas', 'increasingli', 'incred', 'increment', 'incrimin', 'incur', 'inde', 'independ', 'index', 'india', 'indian', 'indiana', 'indianapoli', 'indic', 'indict', 'indigo', 'indiscrimin', 'indisput', 'indistinguish', 'individu', 'indoctrin', 'induc', 'induct', 'industri', 'ineffect', 'ineffici', 'inerr', 'inet', 'inevit', 'inexpens', 'inf', 'infal', 'infam', 'infant', 'infantil', 'infect', 'infecti', 'infer', 'inferior', 'infield', 'infiltr', 'infin', 'infinit', 'infj', 'inflam', 'inflamm', 'inflammatori', 'inflat', 'inflict', 'influenc', 'info', 'inform', 'informat', 'informatik', 'infrar', 'infrastructur', 'infring', 'ing', 'ingest', 'ingr', 'ingredi', 'inhabit', 'inhal', 'inher', 'inherit', 'inhuman', 'inimit', 'iniqu', 'init', 'initi', 'inject', 'injur', 'injuri', 'injustic', 'ink', 'inlin', 'inn', 'inner', 'inning', 'innoc', 'innov', 'input', 'inquir', 'inquiri', 'inquisit', 'insan', 'insect', 'insecur', 'insert', 'insid', 'insight', 'insignific', 'insist', 'inspect', 'inspector', 'inspir', 'inst', 'instal', 'instanc', 'instant', 'instantli', 'instead', 'instig', 'instinct', 'institut', 'instruct', 'instructor', 'instrument', 'insuffici', 'insul', 'insult', 'insur', 'insurrect', 'int', 'intact', 'intak', 'integ', 'integr', 'integra', 'intel', 'intellect', 'intellectu', 'intellig', 'intend', 'intens', 'intensifi', 'intent', 'interact', 'intercept', 'interchang', 'intercon', 'intercours', 'interest', 'interestingli', 'interfac', 'interfer', 'intergraph', 'interim', 'interior', 'interlac', 'interleav', 'intermedi', 'intermitt', 'intern', 'internet', 'interoper', 'interplanetari', 'interpret', 'interrog', 'interrupt', 'intersect', 'interst', 'interv', 'interven', 'intervent', 'interview', 'intestin', 'intifada', 'intim', 'intimid', 'into', 'intoler', 'intox', 'intrepid', 'intrest', 'intrigu', 'intrins', 'intro', 'introduc', 'introduct', 'introductori', 'intrud', 'intrus', 'intuit', 'invad', 'invalid', 'invari', 'invas', 'invent', 'inventor', 'invers', 'invert', 'invest', 'investig', 'investor', 'invis', 'invit', 'invok', 'involv', 'io', 'iowa', 'ip', 'ipc', 'ipser', 'ipx', 'iq', 'ir', 'ira', 'iran', 'iranian', 'iraq', 'iraqi', 'ireland', 'iri', 'irish', 'iron', 'ironi', 'irq', 'irrat', 'irregular', 'irrelev', 'irrespons', 'irrit', 'irv', 'irvin', 'is', 'isa', 'isaac', 'isaiah', 'isbn', 'isdn', 'isi', 'isl', 'islam', 'island', 'isol', 'isra', 'israel', 'israelit', 'isreal', 'issu', 'ist', 'istanbul', 'isu', 'it', 'itali', 'italian', 'itchi', 'item', 'iter', 'ithaca', 'iubac', 'iv', 'ivan', 'ivi', 'ix', 'ja', 'jack', 'jacket', 'jackson', 'jacob', 'jacqu', 'jaeger', 'jagr', 'jail', 'jake', 'jam', 'jame', 'jami', 'jammer', 'jan', 'jane', 'janet', 'januari', 'japan', 'japanes', 'jason', 'jaw', 'jay', 'jayn', 'jazz', 'jb', 'jbrown', 'jc', 'jchen', 'jd', 'je', 'jealousi', 'jean', 'jebright', 'jeep', 'jeesu', 'jeez', 'jeff', 'jefferi', 'jefferson', 'jeffrey', 'jeffri', 'jeh', 'jehovah', 'jek', 'jen', 'jenk', 'jeopardi', 'jeq', 'jeremi', 'jerk', 'jerri', 'jersey', 'jerusalem', 'jess', 'jester', 'jesu', 'jet', 'jew', 'jewish', 'jfc', 'jfk', 'jgreen', 'jim', 'jimf', 'jimmi', 'jj', 'jkn', 'jl', 'jlevin', 'jmd', 'jmeritt', 'jn', 'jnielsen', 'joan', 'job', 'jockey', 'jodfish', 'jodi', 'joe', 'joel', 'johansson', 'john', 'johnh', 'johnni', 'johnson', 'johnston', 'join', 'joint', 'jointli', 'joke', 'jokerit', 'jolla', 'jon', 'jona', 'jonathan', 'jone', 'jordan', 'jorg', 'jose', 'joseph', 'josephu', 'josh', 'joshua', 'joslin', 'journal', 'journalist', 'journey', 'joy', 'joystick', 'jp', 'jpeg', 'jpl', 'jr', 'jrbeach', 'jrm', 'jrogoff', 'jrutledg', 'js', 'jsc', 'jsh', 'jt', 'juan', 'jubile', 'juda', 'judaism', 'jude', 'judg', 'judgement', 'judgment', 'judici', 'judiciari', 'jul', 'juli', 'jumbo', 'jump', 'jumper', 'jumpi', 'jun', 'junction', 'june', 'jungl', 'junior', 'junk', 'jupit', 'juri', 'jurisdict', 'just', 'justic', 'justif', 'justifi', 'justin', 'justli', 'jw', 'jz', 'ka', 'kadi', 'kahn', 'kaldi', 'kansa', 'kar', 'karabag', 'karabagh', 'karabakh', 'karl', 'karma', 'karn', 'karr', 'kathleen', 'kaufman', 'kawasaki', 'kay', 'kb', 'kc', 'kcochran', 'keen', 'keenan', 'keep', 'keeper', 'keith', 'kekul', 'keller', 'kelli', 'kelsey', 'ken', 'kendig', 'kennedi', 'kenneth', 'kenni', 'kent', 'kentucki', 'kermit', 'kernel', 'kerosen', 'kerr', 'kevin', 'key', 'keyboard', 'keyseach', 'keystrok', 'keyword', 'kg', 'kgb', 'kh', 'khan', 'khomeini', 'khz', 'kick', 'kid', 'kidney', 'kiefer', 'kill', 'killer', 'kilomet', 'kilroy', 'kim', 'kimbal', 'kinci', 'kind', 'kinda', 'kindli', 'king', 'kingdom', 'kingman', 'kingston', 'kinsey', 'kipl', 'kirbi', 'kirk', 'kirsch', 'kiss', 'kit', 'kitchen', 'kjenk', 'kk', 'kkeller', 'kkk', 'kl', 'kludg', 'km', 'kn', 'knee', 'knew', 'knife', 'knight', 'knive', 'knob', 'knock', 'knot', 'know', 'knowl', 'knowledg', 'knowleg', 'known', 'knox', 'ko', 'kodak', 'kolodni', 'kolstad', 'kong', 'konstantinov', 'koran', 'korea', 'korean', 'koresh', 'kosher', 'kotb', 'kou', 'koufax', 'koutd', 'kovalev', 'kozierok', 'kratz', 'krehbiel', 'kri', 'krillean', 'ks', 'ksand', 'kt', 'ku', 'kubota', 'kulikauska', 'kuo', 'kurd', 'kurdish', 'kurri', 'kurt', 'kuwait', 'kv', 'ky', 'kyle', 'la', 'lab', 'label', 'labor', 'laboratori', 'lack', 'ladi', 'lafayett', 'lafontain', 'lag', 'laissez', 'lake', 'lamb', 'lame', 'lamont', 'lamp', 'lan', 'lanc', 'land', 'landlord', 'landscap', 'lane', 'lang', 'langley', 'languag', 'lankford', 'lantern', 'lap', 'laps', 'laptop', 'larg', 'larger', 'largest', 'larri', 'laser', 'laserjet', 'laserwrit', 'last', 'lastli', 'latch', 'late', 'later', 'latest', 'latin', 'latonia', 'latter', 'lau', 'lauderdal', 'laugh', 'laughter', 'launch', 'launcher', 'laurentian', 'law', 'lawn', 'lawrenc', 'lawsuit', 'lawyer', 'lay', 'layer', 'layout', 'lazaru', 'lazi', 'lb', 'lc', 'lcd', 'lciii', 'ld', 'le', 'lead', 'leader', 'leadership', 'leaf', 'leagu', 'leak', 'lean', 'leap', 'learn', 'leas', 'least', 'leather', 'leav', 'lebanes', 'lebanon', 'lectur', 'led', 'lee', 'leech', 'lefebvr', 'left', 'lefti', 'leftist', 'leftov', 'leg', 'legal', 'legend', 'legion', 'legisl', 'legislatur', 'legit', 'legitim', 'legitimaci', 'lehigh', 'lehman', 'lem', 'lemieux', 'lemon', 'len', 'lend', 'length', 'lengthi', 'lenin', 'lens', 'leo', 'leonard', 'less', 'lesser', 'lesson', 'lest', 'let', 'lethal', 'letter', 'level', 'lever', 'leverag', 'levi', 'levin', 'leviticu', 'lew', 'lewi', 'lewisvil', 'lf', 'lfoard', 'lg', 'lh', 'li', 'liabil', 'liabl', 'liar', 'lib', 'liber', 'libertarian', 'liberti', 'librari', 'licenc', 'licens', 'lick', 'lid', 'lie', 'liek', 'life', 'lifestyl', 'lifetim', 'lift', 'liftoff', 'light', 'lighten', 'lighter', 'lightli', 'lightn', 'liguori', 'like', 'likelihood', 'likewis', 'likud', 'lim', 'limb', 'limbaugh', 'limit', 'lin', 'lincoln', 'linda', 'lindbergh', 'linden', 'lindro', 'lindroo', 'linear', 'liner', 'lineup', 'linguist', 'link', 'linu', 'linux', 'lion', 'lip', 'lippard', 'liquid', 'lisa', 'lisp', 'list', 'listen', 'listserv', 'lite', 'liter', 'literari', 'literatur', 'littl', 'liturgi', 'liu', 'live', 'liver', 'livermor', 'liverpool', 'livesey', 'livingston', 'livni', 'lj', 'lk', 'llama', 'lloyd', 'ln', 'lo', 'load', 'loan', 'loath', 'lobbi', 'local', 'locat', 'lock', 'locker', 'lockhe', 'lodg', 'log', 'logic', 'login', 'logitech', 'logo', 'loki', 'london', 'lone', 'long', 'longer', 'longest', 'look', 'lookout', 'loop', 'loos', 'loosen', 'lopez', 'loral', 'lord', 'lori', 'lose', 'loser', 'loss', 'lost', 'lot', 'lotsa', 'lotteri', 'lotu', 'lou', 'loud', 'louder', 'loudli', 'loudspeak', 'loui', 'louisiana', 'louisvil', 'louray', 'lousi', 'love', 'lover', 'low', 'lowel', 'lowenstein', 'lower', 'lowest', 'lowli', 'loyal', 'loyalti', 'lp', 'lq', 'ls', 'lsd', 'lt', 'ltd', 'lu', 'lubric', 'luca', 'lucif', 'luck', 'lucki', 'luckili', 'ludicr', 'ludwig', 'lui', 'luke', 'lukewarm', 'lump', 'lunar', 'lunat', 'lunch', 'lung', 'luri', 'luriem', 'lurk', 'lust', 'lustig', 'luther', 'lutheran', 'luxuri', 'lvc', 'lw', 'lx', 'ly', 'lyme', 'lynch', 'lynn', 'ma', 'mac', 'macdonald', 'mace', 'mach', 'machin', 'machineri', 'macinni', 'macintosh', 'mack', 'macki', 'macquari', 'macro', 'macus', 'macweek', 'macworld', 'mad', 'madam', 'maddi', 'made', 'madison', 'mafifi', 'mag', 'magazin', 'magellan', 'magic', 'magick', 'magnet', 'magnifi', 'magnitud', 'magnu', 'magnum', 'mahan', 'mai', 'maidenhead', 'mail', 'mailbox', 'mailer', 'main', 'mainfram', 'mainli', 'mainstream', 'maintain', 'mainten', 'major', 'make', 'makefil', 'maker', 'malcolm', 'male', 'malfunct', 'mall', 'mamayski', 'man', 'manag', 'manchest', 'mandat', 'mandatori', 'mandtbacka', 'mane', 'maneuv', 'mangl', 'mango', 'manhattan', 'mani', 'manifest', 'manipul', 'manitoba', 'mankind', 'manner', 'manson', 'manti', 'manual', 'manufactur', 'manuscript', 'map', 'mapl', 'mar', 'marc', 'march', 'marco', 'marcu', 'margin', 'mari', 'marietta', 'marijuana', 'marin', 'mario', 'mark', 'marka', 'market', 'marketplac', 'markm', 'marku', 'marlboro', 'marlin', 'marquett', 'marri', 'marriag', 'marshal', 'marti', 'martial', 'martian', 'martin', 'martinez', 'martyr', 'marvel', 'marvin', 'marxist', 'maryland', 'mask', 'mason', 'mass', 'massachusett', 'massacr', 'massag', 'massiv', 'master', 'mat', 'match', 'matchup', 'mateo', 'materi', 'math', 'mathemat', 'mathew', 'matrix', 'matt', 'matter', 'matthew', 'mattingli', 'matur', 'matya', 'mau', 'mauric', 'maven', 'max', 'maxim', 'maximum', 'maxtor', 'may', 'mayan', 'mayb', 'mayhew', 'mayn', 'maynard', 'mayo', 'mayor', 'mazda', 'mb', 'mbeav', 'mc', 'mccall', 'mccarthi', 'mccoy', 'mccreari', 'mccullou', 'mcdonald', 'mcdonnel', 'mcdowel', 'mcgill', 'mcguir', 'mcintyr', 'mckay', 'mclean', 'mcmaster', 'mcnc', 'mcovingt', 'mcrae', 'mcsun', 'md', 'me', 'mead', 'meal', 'mean', 'meaning', 'meaningless', 'meantim', 'meanwhil', 'measur', 'meat', 'mechan', 'med', 'meddl', 'media', 'median', 'medic', 'medicin', 'medin', 'mediocr', 'medit', 'mediterranean', 'medium', 'meet', 'meg', 'mega', 'megabyt', 'megatest', 'mehl', 'mein', 'mel', 'melbourn', 'melissa', 'melkonian', 'mellon', 'melt', 'mem', 'member', 'membership', 'meme', 'memo', 'memoir', 'memor', 'memori', 'memphi', 'men', 'menac', 'ment', 'mental', 'mention', 'mentor', 'menu', 'merced', 'mercenari', 'mercer', 'merchandis', 'merchant', 'merci', 'mercuri', 'mere', 'merg', 'merit', 'meritt', 'merlin', 'merril', 'mesh', 'meson', 'mess', 'messag', 'messeng', 'messiah', 'messian', 'messier', 'met', 'metabol', 'metal', 'metaphor', 'metaphys', 'meter', 'methink', 'method', 'methodolog', 'metric', 'metro', 'metropolitan', 'metzger', 'mexican', 'mexico', 'meyer', 'mf', 'mfm', 'mfrhein', 'mg', 'mgr', 'mh', 'mhollowa', 'mhz', 'mi', 'miami', 'miata', 'mice', 'michael', 'michigan', 'mickey', 'micro', 'microcircuit', 'microcomput', 'microcontrol', 'microelectron', 'micron', 'microphon', 'microprocessor', 'microscop', 'microsoft', 'microsystem', 'microwav', 'mid', 'middl', 'midelfort', 'midi', 'midnight', 'midst', 'midwest', 'mieux', 'might', 'mighti', 'migrain', 'migrat', 'mike', 'mikey', 'milan', 'mild', 'mildli', 'mile', 'mileag', 'milit', 'militari', 'militarili', 'militia', 'milk', 'mill', 'miller', 'million', 'milwauke', 'min', 'mind', 'mindless', 'mindset', 'mine', 'miner', 'mini', 'minim', 'minimum', 'minist', 'ministri', 'minneapoli', 'minnesota', 'minor', 'mint', 'minu', 'minut', 'mip', 'mir', 'miracl', 'miracul', 'miranda', 'mirror', 'misc', 'miscellan', 'misconcept', 'miser', 'misguid', 'misinform', 'misinterpret', 'mislead', 'misplac', 'misrepres', 'miss', 'missil', 'mission', 'missionari', 'mississippi', 'missouri', 'mist', 'mistak', 'misunderstand', 'misus', 'mit', 'mitch', 'mitchel', 'mitchum', 'mithra', 'mitig', 'mitr', 'mitsubishi', 'mix', 'mixer', 'mixtur', 'mj', 'mk', 'ml', 'mlb', 'mlee', 'mlindroo', 'mlk', 'mm', 'mmm', 'mn', 'mnemon', 'mo', 'moa', 'mob', 'mobil', 'mock', 'mod', 'mode', 'model', 'modem', 'moder', 'modern', 'modest', 'modif', 'modifi', 'modul', 'modular', 'mogilni', 'moham', 'mohammad', 'mohit', 'mohney', 'moin', 'moistur', 'mola', 'molecul', 'molecular', 'molest', 'molitor', 'mom', 'moment', 'momentum', 'mon', 'monash', 'moncton', 'mond', 'monday', 'money', 'monica', 'monitor', 'monkey', 'monning', 'mono', 'monochrom', 'monopoli', 'monosodium', 'monster', 'mont', 'montana', 'montgomeri', 'month', 'monthli', 'monti', 'montreal', 'monument', 'mood', 'moog', 'moon', 'moonbas', 'moop', 'moor', 'moot', 'moral', 'more', 'moreov', 'morgan', 'morgoth', 'mormon', 'morn', 'moron', 'morri', 'mortal', 'morton', 'moscow', 'mose', 'moslem', 'mosqu', 'moss', 'mossad', 'most', 'mostli', 'mother', 'motherboard', 'motif', 'motion', 'motiv', 'moto', 'motor', 'motorcycl', 'motorcyclist', 'motorola', 'motto', 'mount', 'mountain', 'mourn', 'mous', 'mouth', 'move', 'movement', 'movi', 'mow', 'mozumd', 'mp', 'mpeg', 'mpg', 'mph', 'mq', 'mr', 'mri', 'mrr', 'ms', 'msb', 'msdo', 'msf', 'msg', 'mss', 'mt', 'mtl', 'mtm', 'mu', 'much', 'mucho', 'mudd', 'mueller', 'muenchen', 'muffler', 'mug', 'mule', 'mullen', 'muller', 'multi', 'multimedia', 'multipl', 'multiplex', 'multipli', 'multisync', 'multitask', 'multitud', 'munich', 'municip', 'munit', 'munni', 'murder', 'murphi', 'murray', 'muscl', 'museum', 'music', 'musician', 'muslim', 'mussack', 'mussina', 'must', 'mustang', 'muster', 'mutant', 'mutat', 'mute', 'mutil', 'mutual', 'mv', 'mvanheyn', 'mvp', 'mw', 'mwilson', 'mwm', 'mx', 'my', 'myer', 'mykotronx', 'myriad', 'myrto', 'myself', 'mysteri', 'mystic', 'myth', 'mz', 'na', 'naftali', 'nag', 'nagasiva', 'nah', 'nail', 'naiv', 'nake', 'nambla', 'name', 'nanao', 'nanci', 'nanosecond', 'napalm', 'napoleon', 'narr', 'narrow', 'nasa', 'nashvil', 'nasti', 'nat', 'nathan', 'nathaniel', 'nation', 'nationalist', 'nationwid', 'nativ', 'natur', 'naval', 'navi', 'navig', 'nazi', 'nazism', 'nb', 'nba', 'nbc', 'nc', 'ncaa', 'ncar', 'ncd', 'ncr', 'ncsa', 'ncsu', 'nd', 'ndallen', 'ndi', 'ndw', 'ne', 'neal', 'near', 'nearbi', 'nearest', 'nearli', 'neat', 'neatli', 'nebraska', 'nec', 'neccessari', 'necess', 'necessari', 'necessarili', 'necessit', 'neck', 'need', 'needl', 'needless', 'neeli', 'neg', 'negat', 'neglect', 'neglig', 'negoti', 'neighbor', 'neighborhood', 'neighbour', 'neil', 'neither', 'nelson', 'neoucom', 'neptun', 'neptunium', 'nerv', 'nervou', 'ness', 'net', 'netcom', 'netherland', 'netland', 'netnew', 'netter', 'netwar', 'network', 'neural', 'neurologist', 'neuron', 'neutral', 'neutron', 'nevada', 'never', 'nevertheless', 'new', 'newark', 'newbi', 'newel', 'newer', 'newest', 'newli', 'newman', 'news', 'newsgroup', 'newslett', 'newspap', 'newsweek', 'newton', 'next', 'nextmail', 'nextstep', 'nf', 'ng', 'nh', 'nhl', 'ni', 'nice', 'nichol', 'nichola', 'nick', 'nickh', 'nicknam', 'nicol', 'niel', 'nielsen', 'niether', 'nietzsch', 'nifti', 'nigel', 'night', 'nightmar', 'nih', 'nil', 'nimast', 'nine', 'ninja', 'ninjait', 'nintendo', 'ninth', 'nissan', 'nist', 'nix', 'nixon', 'nj', 'njd', 'nl', 'nlu', 'nm', 'nn', 'nne', 'no', 'noah', 'nobl', 'nobodi', 'nod', 'node', 'noel', 'nois', 'noisi', 'nolan', 'nomin', 'non', 'none', 'nonetheless', 'nonexist', 'nonsens', 'noon', 'nope', 'nor', 'nord', 'nordiqu', 'nore', 'norm', 'normal', 'norman', 'norri', 'north', 'northeast', 'northeastern', 'northern', 'northwest', 'northwestern', 'norton', 'norway', 'nose', 'not', 'notabl', 'note', 'notebook', 'noth', 'notic', 'notifi', 'notion', 'notori', 'notr', 'notwithstand', 'nov', 'nova', 'novel', 'novemb', 'novic', 'now', 'nowaday', 'nowher', 'noy', 'npet', 'nr', 'nra', 'nren', 'nrhj', 'nriz', 'ns', 'nsa', 'nsc', 'nsmca', 'nstramer', 'nsw', 'nswc', 'nt', 'nth', 'ntsc', 'nu', 'nubu', 'nuclear', 'nuke', 'null', 'numb', 'number', 'numer', 'nuntiu', 'nurs', 'nut', 'nutrit', 'nutshel', 'nuy', 'nv', 'nw', 'ny', 'nyc', 'nye', 'nyeda', 'nyi', 'nyland', 'nyr', 'nysernet', 'nyt', 'nyx', 'nz', 'oak', 'oakland', 'oat', 'oath', 'ob', 'obedi', 'obes', 'obey', 'obfusc', 'obispo', 'object', 'oblig', 'oblivi', 'obnoxi', 'obo', 'obp', 'obscur', 'observ', 'observatori', 'obsess', 'obsolet', 'obstacl', 'obstruct', 'obtain', 'obviou', 'obvious', 'occas', 'occasion', 'occass', 'occult', 'occup', 'occupi', 'occur', 'occurr', 'ocean', 'oct', 'octob', 'octopu', 'od', 'odd', 'oddli', 'odomet', 'oem', 'of', 'off', 'offenc', 'offend', 'offens', 'offer', 'offic', 'offici', 'offset', 'oft', 'often', 'oh', 'ohanu', 'ohio', 'ohm', 'oil', 'oiler', 'ointment', 'oj', 'ok', 'okay', 'okcforum', 'oklahoma', 'ol', 'olchowi', 'old', 'older', 'oldest', 'oldham', 'ole', 'olerud', 'oliv', 'olivetti', 'olson', 'olwm', 'olymp', 'om', 'omaha', 'omar', 'omiss', 'omit', 'omnipot', 'omnisci', 'omran', 'on', 'onboard', 'onc', 'one', 'oneself', 'ongo', 'onli', 'onlin', 'ont', 'ontario', 'onto', 'onward', 'oo', 'ooo', 'ooop', 'oop', 'op', 'opaqu', 'open', 'openli', 'openlook', 'openwindow', 'oper', 'opinion', 'oppon', 'opportun', 'oppos', 'opposit', 'oppress', 'opt', 'optic', 'optilink', 'optim', 'optimist', 'option', 'or', 'oracl', 'oral', 'orang', 'orbit', 'orchid', 'order', 'ordin', 'ordinari', 'ore', 'oregon', 'org', 'organis', 'organiz', 'orgin', 'orient', 'origin', 'oriol', 'oriolefan', 'orion', 'orlando', 'orlean', 'orr', 'orthodox', 'orthogon', 'os', 'oscil', 'oscilloscop', 'osf', 'oslo', 'ostens', 'ot', 'otc', 'other', 'otherwis', 'oto', 'ott', 'ottawa', 'otto', 'ottoman', 'ou', 'ouch', 'ought', 'oulu', 'our', 'out', 'outbreak', 'outcom', 'outdat', 'outdoor', 'outer', 'outfield', 'outgo', 'outlaw', 'outlet', 'outlin', 'outlook', 'output', 'outrag', 'outright', 'outsid', 'outstand', 'outweigh', 'oven', 'over', 'overal', 'overburden', 'overcom', 'overdr', 'overhead', 'overkil', 'overlap', 'overlay', 'overli', 'overload', 'overlook', 'overnight', 'overpass', 'overr', 'overreact', 'overrid', 'overse', 'oversea', 'overthrow', 'overtim', 'overturn', 'overview', 'overwhelm', 'overwhelmingli', 'overwrit', 'ow', 'owe', 'owen', 'own', 'owner', 'ownership', 'ox', 'oxford', 'oxid', 'oxygen', 'oxymoron', 'oz', 'ozal', 'ozon', 'ozzi', 'pa', 'pace', 'pacif', 'pack', 'packag', 'packard', 'packet', 'pad', 'padi', 'padr', 'pagan', 'page', 'pagemak', 'pager', 'pain', 'painless', 'paint', 'pair', 'paj', 'pal', 'palac', 'paladin', 'pale', 'palestin', 'palestinean', 'palestinian', 'palett', 'palm', 'palmer', 'palo', 'pan', 'panason', 'panayiotaki', 'panel', 'panic', 'panix', 'pano', 'pant', 'pantheism', 'panther', 'papal', 'paper', 'paperback', 'paperwork', 'papresco', 'par', 'parabl', 'parad', 'paradigm', 'paradis', 'paradox', 'paragraph', 'parallel', 'paramet', 'paranoia', 'paranoid', 'paraphras', 'parasit', 'parcplac', 'pardon', 'parent', 'pari', 'parish', 'pariti', 'park', 'parker', 'parkway', 'parliament', 'parliamentari', 'parr', 'parrot', 'pars', 'parsli', 'part', 'parti', 'partial', 'particip', 'particl', 'particular', 'particularli', 'partisan', 'partit', 'partli', 'partner', 'partnership', 'pasadena', 'pascal', 'pass', 'passag', 'passeng', 'passer', 'passion', 'passiv', 'passov', 'passport', 'password', 'past', 'pastor', 'pat', 'patch', 'patent', 'path', 'pathet', 'patholog', 'pathway', 'patienc', 'patient', 'patriarch', 'patrick', 'patriot', 'patrol', 'patron', 'pattern', 'patterson', 'patti', 'patton', 'paul', 'paula', 'paulson', 'paus', 'pavement', 'pay', 'paycheck', 'payload', 'payment', 'pb', 'pbwasoh', 'pc', 'pcb', 'pcboard', 'pct', 'pcx', 'pd', 'pdt', 'peac', 'peak', 'peanut', 'pearl', 'pearson', 'peart', 'peculiar', 'pedal', 'pee', 'peer', 'peg', 'pegasu', 'pellet', 'pem', 'pen', 'penal', 'penalti', 'pencil', 'pend', 'penetr', 'penguin', 'penn', 'pennant', 'penni', 'pennsylvania', 'pentium', 'peopl', 'pep', 'pepper', 'per', 'pera', 'perceiv', 'percent', 'percentag', 'percept', 'perfect', 'perfectli', 'perform', 'perhap', 'period', 'peripher', 'perish', 'perl', 'perman', 'permiss', 'permit', 'perpendicular', 'perpetr', 'perpetu', 'perri', 'persecut', 'persever', 'persian', 'persist', 'person', 'personnel', 'perspect', 'persuad', 'persuas', 'pertain', 'perth', 'pertin', 'perturb', 'pervers', 'pervert', 'pet', 'petaluma', 'petch', 'pete', 'peter', 'peterborough', 'peterson', 'petit', 'petri', 'pettefar', 'petti', 'pex', 'pg', 'pgf', 'pgh', 'pgp', 'ph', 'phantom', 'pharise', 'pharvey', 'phase', 'phd', 'phenomena', 'phenomenon', 'phi', 'phig', 'phil', 'philadelphia', 'philip', 'phill', 'philli', 'phillip', 'philosoph', 'philosophi', 'phoenix', 'phone', 'photo', 'photograph', 'photographi', 'photoshop', 'phrase', 'physic', 'physician', 'physicist', 'physiolog', 'pi', 'pic', 'pick', 'picki', 'pickup', 'pictur', 'pie', 'piec', 'pierc', 'pierson', 'pig', 'pilchuck', 'pile', 'pill', 'pillion', 'pilot', 'pim', 'pin', 'pinch', 'pink', 'pinout', 'pioneer', 'pip', 'pipe', 'pipelin', 'pirat', 'piss', 'pistol', 'piston', 'pit', 'pitch', 'pitcher', 'piti', 'pitt', 'pittsburgh', 'pixel', 'pixi', 'pixmap', 'pizza', 'pj', 'pk', 'pkp', 'pl', 'place', 'placebo', 'placement', 'plagu', 'plain', 'plainli', 'plaintext', 'plan', 'plane', 'planet', 'planetari', 'plant', 'plastic', 'plat', 'plate', 'platform', 'platoon', 'platter', 'plausibl', 'play', 'playback', 'player', 'playoff', 'plea', 'plead', 'pleas', 'pleasant', 'pleasur', 'pledg', 'plenti', 'plo', 'plot', 'plotter', 'plu', 'plug', 'plunder', 'pluto', 'plymouth', 'pm', 'pmetzger', 'po', 'pocket', 'poem', 'poet', 'pogrom', 'point', 'pointer', 'pointless', 'poison', 'poke', 'poland', 'polar', 'pole', 'poli', 'polic', 'policeman', 'policemen', 'polici', 'polish', 'polit', 'politician', 'poll', 'pollut', 'poloniu', 'polygon', 'polytechn', 'pomona', 'pompou', 'pond', 'ponder', 'pool', 'poor', 'poorer', 'poorli', 'pop', 'pope', 'popul', 'populac', 'popular', 'popup', 'pork', 'porsch', 'port', 'portabl', 'portal', 'portion', 'portland', 'portray', 'pose', 'posit', 'possess', 'possibl', 'post', 'postag', 'postal', 'poster', 'postmast', 'postscript', 'postul', 'pot', 'potenti', 'potter', 'potvin', 'poulin', 'pound', 'pour', 'pov', 'poverti', 'povray', 'powder', 'powel', 'power', 'powerbook', 'powerless', 'powerpc', 'powerplay', 'pp', 'ppm', 'pr', 'practic', 'practis', 'practition', 'pragmat', 'prais', 'prank', 'pray', 'prayer', 'prb', 'pre', 'preach', 'preacher', 'preamp', 'precaut', 'preced', 'preciou', 'precis', 'preclud', 'predat', 'predecessor', 'predict', 'predomin', 'prefer', 'pregnanc', 'pregnant', 'prejudic', 'preliminari', 'prelud', 'prematur', 'premier', 'premis', 'premium', 'prepar', 'presbyterian', 'prescod', 'prescrib', 'prescript', 'presenc', 'present', 'preserv', 'preset', 'presid', 'presidenti', 'press', 'pressur', 'prestig', 'preston', 'presum', 'presumpt', 'pretend', 'pretext', 'pretti', 'prettier', 'prevail', 'preval', 'prevent', 'preview', 'previou', 'previous', 'prey', 'price', 'pride', 'priest', 'priesthood', 'primari', 'primarili', 'prime', 'primeau', 'primit', 'princ', 'princeton', 'princip', 'principl', 'print', 'printer', 'printf', 'prior', 'prioriti', 'prism', 'prison', 'privaci', 'privat', 'privileg', 'prize', 'pro', 'prob', 'probabl', 'probe', 'probert', 'problem', 'problemat', 'procedur', 'proceed', 'process', 'processor', 'proclaim', 'procomm', 'procur', 'prodigi', 'prodriv', 'produc', 'product', 'prof', 'profess', 'profession', 'professor', 'profil', 'profit', 'profound', 'prog', 'program', 'programm', 'progress', 'prohibit', 'project', 'projector', 'prolong', 'promin', 'promis', 'promiscu', 'promot', 'prompt', 'promptli', 'prone', 'prong', 'pronounc', 'proof', 'prop', 'propag', 'propaganda', 'propagandist', 'propel', 'proper', 'properli', 'properti', 'propheci', 'prophesi', 'prophet', 'propog', 'propoganda', 'propon', 'proport', 'propos', 'proposit', 'proprietari', 'propuls', 'prosecut', 'proselyt', 'prospect', 'prosper', 'prostitut', 'protect', 'protector', 'protein', 'protest', 'protocol', 'proton', 'prototyp', 'proud', 'provabl', 'prove', 'proverb', 'proverbi', 'provid', 'provinc', 'provis', 'provoc', 'provok', 'prowess', 'ps', 'psalm', 'pseudocolor', 'pseudonym', 'psi', 'psych', 'psycholog', 'psyrobtw', 'pt', 'pu', 'pub', 'public', 'publicli', 'publish', 'puck', 'puckett', 'pull', 'puls', 'pump', 'pun', 'punch', 'punish', 'purchas', 'purdu', 'pure', 'purg', 'puriti', 'purpl', 'purport', 'purpos', 'purs', 'pursu', 'pursuit', 'push', 'put', 'puzzl', 'pw', 'pwiseman', 'pyramid', 'pyron', 'pythagorean', 'python', 'qa', 'qax', 'qb', 'qemm', 'qh', 'qi', 'ql', 'qm', 'qq', 'qs', 'qt', 'quack', 'quad', 'quadra', 'quaker', 'qualcomm', 'qualif', 'qualifi', 'qualit', 'qualiti', 'quantifi', 'quantit', 'quantiti', 'quantum', 'quarrel', 'quart', 'quarter', 'quarterli', 'que', 'quebec', 'queen', 'queer', 'queri', 'quest', 'question', 'qui', 'quibbl', 'quick', 'quickdraw', 'quicker', 'quickli', 'quicktim', 'quiet', 'quieter', 'quietli', 'quinn', 'quist', 'quit', 'quo', 'quot', 'quotat', 'quran', 'ra', 'rabbi', 'rabbit', 'rabid', 'rabin', 'race', 'racer', 'racial', 'racism', 'racist', 'rack', 'radar', 'radial', 'radiat', 'radic', 'radio', 'radioact', 'radiu', 'rag', 'rage', 'ragraca', 'raid', 'raider', 'rail', 'rain', 'rainer', 'rais', 'ralli', 'ralph', 'ram', 'rambl', 'ramif', 'ramsey', 'ranch', 'ranck', 'rand', 'randal', 'randi', 'random', 'randomli', 'rang', 'ranger', 'rank', 'rant', 'rap', 'rape', 'rapid', 'rapidli', 'rapist', 'rare', 'rash', 'raster', 'rat', 'rate', 'rather', 'ratio', 'ration', 'rational', 'rauser', 'rave', 'ravi', 'raw', 'rawlinson', 'ray', 'raymond', 'rayssd', 'raytrac', 'razi', 'rbi', 'rc', 'rca', 'rd', 'rdippold', 'reach', 'react', 'reaction', 'reactor', 'read', 'readabl', 'reader', 'readi', 'readili', 'readm', 'reaffirm', 'reagan', 'real', 'reali', 'realis', 'realist', 'realiti', 'realiz', 'realli', 'realm', 'reap', 'rear', 'reardon', 'reason', 'reassur', 'rebel', 'reboot', 'rebound', 'rebuild', 'rebutt', 'rec', 'recal', 'recchi', 'receipt', 'receiv', 'recent', 'recept', 'recess', 'reciev', 'recip', 'recipi', 'reckless', 'reckon', 'recogn', 'recognis', 'recognit', 'recomend', 'recommend', 'reconcil', 'reconsid', 'reconstruct', 'record', 'recours', 'recov', 'recoveri', 'recreat', 'recruit', 'rectangl', 'rectangular', 'rectifi', 'recur', 'recurr', 'recycl', 'red', 'redeem', 'redelf', 'redempt', 'redesign', 'redicul', 'redirect', 'redistribut', 'redraw', 'reduc', 'reduct', 'redund', 'redwood', 'reed', 'reedr', 'ref', 'refer', 'refere', 'referr', 'refin', 'reflect', 'reform', 'reformat', 'refrain', 'refresh', 'refug', 'refuge', 'refund', 'refus', 'refut', 'reg', 'regain', 'regan', 'regard', 'regardless', 'regener', 'regim', 'region', 'regist', 'registr', 'registri', 'regress', 'regret', 'regul', 'regular', 'regularli', 'rehabilit', 'reich', 'reichel', 'reid', 'reign', 'reincarn', 'reinforc', 'reinstal', 'reiter', 'reject', 'rel', 'relat', 'relationship', 'relativist', 'relax', 'relay', 'releas', 'relev', 'reli', 'reliabl', 'relianc', 'relief', 'reliev', 'relig', 'religi', 'religion', 'reload', 'reluct', 'rem', 'remain', 'remaind', 'remark', 'remeb', 'remedi', 'rememb', 'remind', 'remiss', 'remot', 'remov', 'renaiss', 'renam', 'render', 'rene', 'renew', 'reno', 'renounc', 'renssela', 'rent', 'rental', 'rep', 'repaint', 'repair', 'repar', 'repeal', 'repeat', 'repeatedli', 'repent', 'repetit', 'rephras', 'replac', 'replay', 'repli', 'replic', 'replica', 'repo', 'report', 'reportedli', 'repositori', 'repost', 'repres', 'represent', 'repress', 'reprint', 'reproduc', 'reproduct', 'republ', 'republican', 'reput', 'request', 'requir', 'rescu', 'research', 'resembl', 'resent', 'reserv', 'reset', 'resid', 'residenti', 'residu', 'resign', 'resist', 'resistor', 'resiz', 'resolut', 'resolv', 'reson', 'resort', 'resourc', 'respect', 'responc', 'respond', 'respons', 'rest', 'restart', 'restaur', 'reston', 'restor', 'restrain', 'restraint', 'restrict', 'result', 'resum', 'resurrect', 'retail', 'retain', 'retali', 'retard', 'rethink', 'retir', 'retract', 'retreat', 'retriev', 'retrospect', 'return', 'reusabl', 'reuter', 'rev', 'reveal', 'revel', 'reveng', 'revenu', 'rever', 'revers', 'revert', 'review', 'revis', 'revision', 'revisionist', 'revok', 'revolt', 'revolut', 'revolutionari', 'revolv', 'reward', 'rewrit', 'rex', 'rexlex', 'reynold', 'rf', 'rfc', 'rfd', 'rfi', 'rg', 'rgb', 'rgooch', 'rh', 'rhein', 'rhetor', 'rhode', 'ri', 'rib', 'ribbon', 'rice', 'riceburn', 'rich', 'richard', 'richardson', 'richer', 'richk', 'richmond', 'rick', 'rickc', 'rickey', 'rid', 'riddanc', 'riddl', 'ride', 'rider', 'ridg', 'ridicul', 'rifl', 'rifleman', 'rig', 'right', 'righteou', 'righteous', 'rightli', 'rigid', 'rigor', 'rigth', 'riley', 'rim', 'rind', 'ring', 'riordan', 'riot', 'rip', 'ripem', 'ripken', 'risc', 'rise', 'risk', 'riski', 'rite', 'ritual', 'rival', 'river', 'rivest', 'rj', 'rjwade', 'rk', 'rkba', 'rl', 'rlglend', 'rlk', 'rll', 'rlogin', 'rm', 'rmohn', 'rn', 'rnichol', 'ro', 'road', 'roam', 'roar', 'rob', 'robart', 'robberi', 'robbi', 'robert', 'robertson', 'robi', 'robin', 'robinson', 'robitail', 'robot', 'robust', 'rochest', 'rock', 'rocket', 'rocki', 'rockwel', 'rod', 'rodney', 'roenick', 'roger', 'rogoff', 'roland', 'role', 'rolf', 'roll', 'rolla', 'roller', 'rom', 'roman', 'rome', 'ron', 'ronald', 'ronzon', 'roof', 'rooki', 'room', 'roommat', 'root', 'rootstown', 'rope', 'rosa', 'rose', 'rosenau', 'rosicrucian', 'ross', 'roster', 'rotat', 'roth', 'rotor', 'rotten', 'rough', 'roughli', 'round', 'roush', 'rousseau', 'rout', 'routin', 'rover', 'row', 'roy', 'royal', 'royalti', 'royc', 'rp', 'rpm', 'rr', 'rs', 'rsa', 'rscharfi', 'rsilver', 'rt', 'rtp', 'rub', 'rubber', 'rubin', 'rude', 'ruff', 'rug', 'ruin', 'rule', 'ruler', 'rumor', 'rumour', 'run', 'runner', 'rural', 'rush', 'rushdi', 'rusnew', 'russ', 'russel', 'russia', 'russian', 'rust', 'rusti', 'rutger', 'ruth', 'rutledg', 'rv', 'rvesterm', 'rw', 'rwing', 'ry', 'ryan', 'rz', 'sa', 'saab', 'sabbath', 'sabin', 'sabr', 'sack', 'sacr', 'sacrafic', 'sacramento', 'sacrific', 'sad', 'saddam', 'sadden', 'saddl', 'sadist', 'sadli', 'safe', 'safeguard', 'safer', 'safeti', 'saftey', 'sahak', 'said', 'sail', 'saint', 'sake', 'salah', 'salari', 'sale', 'salem', 'salesman', 'salmon', 'salt', 'salvat', 'sam', 'same', 'sampl', 'samuel', 'san', 'sanction', 'sand', 'sandberg', 'sander', 'sanderson', 'sandi', 'sandvik', 'sane', 'saniti', 'santa', 'sarah', 'saratoga', 'sarcasm', 'sarcast', 'sasghm', 'sat', 'satan', 'satellit', 'satisfact', 'satisfactori', 'satisfi', 'saturday', 'saturn', 'sauc', 'saudi', 'savag', 'savard', 'save', 'savior', 'saw', 'say', 'sb', 'sc', 'scale', 'scam', 'scan', 'scandal', 'scandinavian', 'scanner', 'scar', 'scare', 'scari', 'scatter', 'scenario', 'scene', 'sceneri', 'sceptic', 'scharfi', 'schaumburg', 'schedul', 'schemat', 'scheme', 'schism', 'schmidl', 'schmidt', 'schneider', 'scholar', 'scholarli', 'scholarship', 'school', 'schwartz', 'sci', 'scienc', 'scientif', 'scientist', 'sco', 'scoop', 'scope', 'score', 'scorer', 'scorn', 'scot', 'scotland', 'scott', 'scotti', 'scout', 'scrambl', 'scrap', 'scratch', 'scream', 'screen', 'screw', 'scribe', 'script', 'scriptur', 'scriptura', 'scroll', 'scrutini', 'scsi', 'scum', 'sd', 'sda', 'sdio', 'sdk', 'se', 'sea', 'seagat', 'seal', 'seam', 'sean', 'search', 'season', 'seat', 'seattl', 'sebastian', 'sec', 'seca', 'second', 'secondari', 'secondli', 'secreci', 'secret', 'secretari', 'secretli', 'sect', 'section', 'sector', 'secular', 'secur', 'sed', 'sedan', 'see', 'seed', 'seek', 'seem', 'seemingli', 'sega', 'segment', 'sehari', 'seiz', 'seizur', 'sel', 'selann', 'seldom', 'select', 'self', 'selfish', 'sell', 'seller', 'semak', 'semant', 'semi', 'semiconductor', 'seminar', 'semtex', 'senat', 'senc', 'send', 'sender', 'senior', 'sens', 'sensat', 'senseless', 'sensibl', 'sensit', 'sensor', 'sentenc', 'sentiment', 'sentra', 'sep', 'separ', 'seper', 'sepinw', 'sepinwal', 'septemb', 'sequenc', 'sera', 'serb', 'serbia', 'serbian', 'serdar', 'seri', 'serial', 'seriou', 'serious', 'sermon', 'serpent', 'serv', 'servant', 'server', 'servic', 'session', 'set', 'seth', 'settl', 'settlement', 'setup', 'seven', 'seventh', 'sever', 'sex', 'sexist', 'sexual', 'sez', 'sf', 'sgi', 'sh', 'shack', 'shade', 'shadow', 'shafer', 'shaft', 'shah', 'shai', 'shaig', 'shake', 'shaki', 'shall', 'shallow', 'shalt', 'shame', 'shamir', 'shanahan', 'shannon', 'shanti', 'shape', 'shapiro', 'share', 'sharewar', 'shark', 'sharon', 'sharp', 'sharpli', 'shatter', 'shaw', 'shawn', 'she', 'shea', 'shear', 'shed', 'sheep', 'sheer', 'sheesh', 'sheet', 'sheffield', 'shelf', 'shell', 'shelter', 'shepherd', 'sherri', 'sherzer', 'shield', 'shift', 'shifter', 'shin', 'shine', 'ship', 'shipment', 'shirt', 'shit', 'shnekendorf', 'sho', 'shock', 'shoe', 'shoei', 'shoot', 'shooter', 'shootout', 'shop', 'shopper', 'shore', 'short', 'shorten', 'shorter', 'shortli', 'shortstop', 'shostack', 'shot', 'shotgun', 'should', 'shoulder', 'shout', 'shove', 'shovel', 'show', 'shower', 'shred', 'shrink', 'shuffl', 'shut', 'shutdown', 'shutout', 'shutter', 'shuttl', 'shz', 'si', 'sic', 'sick', 'sicken', 'sid', 'side', 'sidewalk', 'sieg', 'siemen', 'siemon', 'sierra', 'sig', 'siggraph', 'sigh', 'sight', 'sigma', 'sign', 'signal', 'signatur', 'signific', 'significantli', 'sigsauer', 'sigurdsson', 'silenc', 'silent', 'silicon', 'silli', 'silver', 'silverlin', 'similar', 'similarli', 'simm', 'simmon', 'simon', 'simpl', 'simpler', 'simplest', 'simpli', 'simplic', 'simplifi', 'simplist', 'simpson', 'simul', 'simultan', 'sin', 'sinc', 'sincer', 'sing', 'singapor', 'singer', 'singl', 'sink', 'sinner', 'sinu', 'sinus', 'sir', 'sister', 'sit', 'site', 'situat', 'six', 'sixsmith', 'sixteen', 'sixth', 'sixti', 'size', 'sj', 'sk', 'skate', 'skeptic', 'sketch', 'skew', 'ski', 'skidmor', 'skill', 'skin', 'skip', 'skipjack', 'sky', 'sl', 'slack', 'slam', 'slander', 'slap', 'slash', 'slaughter', 'slave', 'slaveri', 'slay', 'sledd', 'sleep', 'sleev', 'slegg', 'slg', 'slice', 'slick', 'slide', 'slider', 'slight', 'slightest', 'slightli', 'slip', 'slipperi', 'slmr', 'sloan', 'slope', 'sloppi', 'slot', 'slow', 'slower', 'slowli', 'slug', 'slump', 'sm', 'smack', 'smale', 'small', 'smaller', 'smallest', 'smart', 'smartdrv', 'smash', 'smb', 'smear', 'smell', 'smile', 'smiley', 'smith', 'smithsonian', 'smoke', 'smoker', 'smooth', 'smoother', 'smoothli', 'smtp', 'smuggl', 'smuggler', 'smyth', 'snail', 'snake', 'snap', 'snatch', 'sneak', 'snichol', 'snider', 'snip', 'sniper', 'snoop', 'snot', 'snow', 'snyder', 'so', 'soak', 'soap', 'sob', 'sober', 'soc', 'soccer', 'social', 'socialist', 'societ', 'societi', 'sociolog', 'sock', 'socket', 'sod', 'soderstrom', 'soft', 'softwar', 'soggi', 'soil', 'sol', 'sola', 'solar', 'solari', 'sold', 'solder', 'soldier', 'sole', 'solicit', 'solid', 'solo', 'solomon', 'solut', 'solv', 'somalia', 'some', 'somebodi', 'someday', 'somehow', 'someon', 'someplac', 'someth', 'sometim', 'somewhat', 'somewher', 'son', 'song', 'soni', 'sonic', 'sonoma', 'soon', 'sooner', 'sophist', 'sophomor', 'sore', 'sorenson', 'sorri', 'sort', 'sorta', 'soul', 'sound', 'soundblast', 'soup', 'sourc', 'south', 'southern', 'southwest', 'southwestern', 'souvien', 'sovereignti', 'soviet', 'sox', 'sp', 'space', 'spacecraft', 'spaceflight', 'spain', 'span', 'spanish', 'spar', 'sparc', 'sparcstat', 'spare', 'spark', 'sparki', 'spatial', 'spdcc', 'speak', 'speaker', 'spec', 'speci', 'special', 'specialist', 'specialti', 'specif', 'specifi', 'spectacular', 'spectat', 'spectr', 'spectrum', 'specul', 'speech', 'speed', 'speedi', 'speedo', 'speedomet', 'speedstar', 'spell', 'spencer', 'spend', 'sphere', 'spheric', 'spi', 'spike', 'spill', 'spin', 'spinal', 'spine', 'spinoff', 'spira', 'spirit', 'spiritu', 'spit', 'spite', 'splice', 'splinter', 'split', 'spock', 'spoil', 'spokesman', 'spokesperson', 'sponsor', 'spontan', 'spook', 'spool', 'sport', 'sporti', 'spot', 'spous', 'spout', 'spp', 'spray', 'spread', 'spreadsheet', 'spring', 'springfield', 'sprite', 'spss', 'spur', 'sq', 'squad', 'squar', 'squash', 'squat', 'squeez', 'squibb', 'squid', 'srb', 'sri', 'ss', 'ssd', 'ssf', 'ssto', 'st', 'stab', 'stabil', 'stabl', 'stack', 'stacker', 'stadium', 'staff', 'staffan', 'stafford', 'stag', 'stage', 'stagger', 'stake', 'stalin', 'stall', 'stamp', 'stampfli', 'stan', 'stanc', 'stand', 'standard', 'standoff', 'standpoint', 'stanford', 'stankowitz', 'stanley', 'star', 'starfleet', 'stark', 'starr', 'start', 'starter', 'startl', 'startup', 'starv', 'stat', 'state', 'statement', 'static', 'station', 'statist', 'statu', 'statut', 'stave', 'stay', 'std', 'steadi', 'steadili', 'steal', 'stealth', 'steam', 'steel', 'steep', 'steer', 'stefan', 'stein', 'steiner', 'steinli', 'steinn', 'stem', 'step', 'steph', 'stephan', 'stephen', 'stephenson', 'stereo', 'stereotyp', 'steril', 'stern', 'sternlight', 'steroid', 'steve', 'steveg', 'steveh', 'steven', 'steveth', 'stewart', 'stick', 'sticker', 'sticki', 'stiff', 'still', 'stimul', 'stimulu', 'sting', 'stink', 'stir', 'stl', 'stock', 'stockholm', 'stockpil', 'stolen', 'stomach', 'stone', 'stoni', 'stoop', 'stop', 'storag', 'store', 'stori', 'storm', 'stove', 'straight', 'straighten', 'straightforward', 'strain', 'strait', 'stramer', 'strand', 'strang', 'stranger', 'strap', 'strateg', 'strategi', 'stratu', 'straw', 'strawberri', 'strawman', 'stray', 'streak', 'stream', 'street', 'strength', 'strengthen', 'stress', 'stretch', 'strict', 'stricter', 'strictli', 'stride', 'strider', 'strife', 'strike', 'string', 'strip', 'strive', 'strnlght', 'stroke', 'strong', 'stronger', 'strongest', 'strongli', 'structur', 'struggl', 'stssdxb', 'stuart', 'stud', 'student', 'studi', 'studio', 'studley', 'stuff', 'stumbl', 'stunt', 'stupid', 'style', 'su', 'sub', 'subaru', 'subdirectori', 'subdivis', 'submarin', 'submiss', 'submit', 'subroutin', 'subscrib', 'subscript', 'subsequ', 'subset', 'subsid', 'subsidi', 'subsidiari', 'substanc', 'substanti', 'substitut', 'subsystem', 'subtl', 'subtract', 'suburb', 'suburban', 'subvert', 'succeed', 'success', 'successor', 'such', 'suck', 'sucker', 'sudburi', 'sudden', 'suddenli', 'sue', 'suffer', 'suffic', 'suffici', 'sugar', 'suggest', 'sui', 'suicid', 'suit', 'suitabl', 'sullivan', 'sum', 'sumgait', 'summar', 'summari', 'summer', 'summon', 'sun', 'sunday', 'sundin', 'suni', 'sunlight', 'sunni', 'sunnyval', 'suno', 'sunris', 'sunroof', 'sunset', 'sunsoft', 'sunview', 'super', 'superb', 'supercomput', 'superfici', 'superhighway', 'superior', 'supernatur', 'supersed', 'superstar', 'superstit', 'supervis', 'supervisor', 'supplement', 'suppli', 'supplier', 'support', 'suppos', 'supposedli', 'suppress', 'supra', 'suprem', 'supris', 'sure', 'surfac', 'surfer', 'surg', 'surgeon', 'surgeri', 'surgic', 'surpass', 'surplu', 'surpris', 'surprisingli', 'surrend', 'surround', 'surveil', 'survey', 'surviv', 'survivor', 'susan', 'suscept', 'suspect', 'suspend', 'suspens', 'suspici', 'suspicion', 'sustain', 'suter', 'sutherland', 'sutter', 'suv', 'suzuki', 'svga', 'svoboda', 'sw', 'swallow', 'swap', 'swear', 'sweat', 'sweden', 'swedish', 'sweep', 'sweet', 'sweeti', 'swell', 'swim', 'swing', 'swiss', 'switch', 'switzerland', 'sword', 'sx', 'sy', 'sydney', 'symbol', 'symmetr', 'sympathi', 'symptom', 'sync', 'synchron', 'synchrotron', 'syndrom', 'synonym', 'synopt', 'syntax', 'synthes', 'synthesi', 'synthet', 'syquest', 'syria', 'syrian', 'sysadmin', 'sysmgr', 'system', 'systemat', 'ta', 'tab', 'tabl', 'tablet', 'tack', 'tactic', 'tad', 'tag', 'taglin', 'tail', 'taint', 'taiwan', 'take', 'taken', 'taker', 'tale', 'talent', 'talk', 'tall', 'tamamidi', 'tammi', 'tampa', 'tamper', 'tan', 'tangibl', 'tank', 'tao', 'tap', 'tape', 'tar', 'target', 'tartar', 'task', 'tast', 'tate', 'tatoo', 'taunt', 'tauru', 'tautolog', 'tavar', 'tax', 'taxat', 'taxi', 'taxpay', 'taylor', 'tb', 'tc', 'tclock', 'tcmay', 'td', 'tdawson', 'te', 'tea', 'teach', 'teacher', 'team', 'tear', 'tech', 'technic', 'technician', 'techniqu', 'technisch', 'technolog', 'ted', 'tedebear', 'tedward', 'tee', 'teel', 'teemu', 'teen', 'teenag', 'teeth', 'teh', 'tek', 'tektronix', 'tel', 'telco', 'telecom', 'telecommun', 'telepathi', 'telephon', 'telephoni', 'telescop', 'televis', 'televison', 'telex', 'tell', 'telnet', 'telo', 'temp', 'temper', 'temperatur', 'tempest', 'templ', 'templat', 'templeton', 'tempor', 'temporari', 'temporarili', 'tempt', 'temptat', 'ten', 'tenant', 'tend', 'tendenc', 'tender', 'tennesse', 'tenni', 'tens', 'tension', 'tent', 'tenth', 'tercel', 'term', 'termin', 'terminolog', 'terrac', 'terrain', 'terresteri', 'terri', 'terribl', 'terrifi', 'territori', 'terror', 'terrorist', 'terziogl', 'terzioglu', 'tesla', 'test', 'testament', 'tester', 'testifi', 'testimoni', 'tex', 'texa', 'text', 'textbook', 'textur', 'tg', 'tgv', 'th', 'tha', 'than', 'thank', 'thanx', 'tharp', 'that', 'the', 'theater', 'theatr', 'thee', 'theft', 'their', 'theism', 'theist', 'them', 'theme', 'then', 'theodor', 'theolog', 'theologian', 'theoret', 'theori', 'theorist', 'ther', 'therapi', 'there', 'thereaft', 'therebi', 'therefor', 'therein', 'thereof', 'thermal', 'these', 'thesi', 'they', 'thi', 'thick', 'thief', 'thier', 'thigh', 'thigpen', 'thin', 'thine', 'thing', 'think', 'thinker', 'third', 'thirst', 'thirteen', 'thirti', 'tho', 'thoma', 'thomasp', 'thompson', 'thomson', 'thor', 'thorn', 'thorough', 'thoroughli', 'thorson', 'those', 'thou', 'though', 'thought', 'thousand', 'thread', 'threat', 'threaten', 'three', 'threshold', 'thrill', 'thrive', 'throat', 'throne', 'throttl', 'through', 'throughout', 'throughput', 'throw', 'thrower', 'thru', 'thrust', 'thruster', 'thu', 'thug', 'thumb', 'thunder', 'thunderbird', 'thursday', 'thwart', 'thx', 'thyagi', 'ti', 'tick', 'ticket', 'tickl', 'tie', 'tiff', 'tiger', 'tight', 'tighten', 'tightli', 'til', 'tile', 'till', 'tilt', 'tim', 'time', 'timeout', 'timer', 'timmbak', 'timmon', 'timothi', 'tin', 'tini', 'tion', 'tip', 'tire', 'tissu', 'titan', 'titl', 'tkachuk', 'tl', 'tm', 'tn', 'to', 'toal', 'tobacco', 'tobia', 'tocchet', 'tod', 'todamhyp', 'today', 'todd', 'toe', 'togeth', 'toilet', 'token', 'tokyo', 'toler', 'toll', 'tom', 'tomb', 'tomh', 'tommi', 'tomorrow', 'ton', 'tone', 'toner', 'tongu', 'toni', 'tonight', 'too', 'tool', 'toolkit', 'top', 'topic', 'toplevel', 'tor', 'torah', 'torch', 'toronto', 'torqu', 'torr', 'tortur', 'toshiba', 'toss', 'total', 'totalitarian', 'touch', 'tough', 'tour', 'tourist', 'tournament', 'tout', 'tove', 'tow', 'toward', 'tower', 'town', 'toxic', 'toxin', 'toy', 'toyota', 'tp', 'tq', 'tr', 'trace', 'tracer', 'track', 'tract', 'trade', 'trademark', 'trader', 'tradit', 'traffic', 'tragedi', 'tragic', 'trail', 'trailer', 'train', 'trait', 'trajan', 'trajectori', 'trampl', 'tran', 'tranni', 'tranquil', 'transact', 'transceiv', 'transcend', 'transcript', 'transfer', 'transform', 'transgress', 'transient', 'transistor', 'transit', 'translat', 'transmiss', 'transmit', 'transmitt', 'transpar', 'transplant', 'transport', 'trap', 'trapdoor', 'trash', 'travel', 'travi', 'tray', 'tread', 'treason', 'treasur', 'treasuri', 'treat', 'treati', 'treatment', 'tree', 'trek', 'tremend', 'trench', 'trend', 'trent', 'trevor', 'tri', 'trial', 'triangl', 'triangul', 'tribe', 'tribun', 'trick', 'tricki', 'trickl', 'trident', 'trigger', 'trillion', 'trim', 'triniti', 'trinitron', 'trip', 'tripe', 'tripl', 'tripoli', 'triumf', 'triumph', 'trivia', 'trivial', 'troop', 'trooper', 'trophi', 'troubl', 'troy', 'truck', 'true', 'truecolor', 'trueli', 'truetyp', 'truli', 'trumpet', 'trunk', 'trust', 'trustworthi', 'truth', 'trw', 'tseng', 'tsn', 'tsr', 'tt', 'tte', 'tti', 'ttl', 'tu', 'tub', 'tube', 'tucson', 'tue', 'tuesday', 'tuff', 'tuft', 'tuinstra', 'tuition', 'tulsa', 'tune', 'tunnel', 'turbo', 'ture', 'turgeon', 'turk', 'turkey', 'turkish', 'turkiy', 'turn', 'turner', 'turpin', 'turtl', 'tutori', 'tv', 'tvtwm', 'twelv', 'twenti', 'twice', 'twin', 'twist', 'twm', 'two', 'tx', 'ty', 'type', 'typic', 'typo', 'tyranni', 'tyrant', 'tyre', 'tz', 'ua', 'uaccess', 'uart', 'ub', 'ubiquit', 'uc', 'ucbvax', 'ucc', 'uci', 'ucla', 'ucsd', 'ud', 'ug', 'ugli', 'uh', 'ui', 'uiuc', 'uj', 'uk', 'ulf', 'ultim', 'ultra', 'ultrastor', 'ultrix', 'um', 'umm', 'ummm', 'umpir', 'un', 'unabl', 'unaccept', 'unambigu', 'unanim', 'unapprov', 'unarm', 'unauthent', 'unauthor', 'unawar', 'unbeliev', 'unbias', 'unbreak', 'unc', 'uncertain', 'uncertainti', 'unchang', 'uncl', 'unclear', 'uncomfort', 'uncommon', 'uncompress', 'uncondit', 'unconstitut', 'uncontrol', 'unconvent', 'uncov', 'und', 'undefin', 'undeni', 'under', 'underdog', 'underestim', 'undergo', 'underground', 'underli', 'underlin', 'undermin', 'underneath', 'understand', 'undertak', 'underway', 'undesir', 'undisput', 'undo', 'undocu', 'undoubtedli', 'unemploy', 'unequivoc', 'unexpect', 'unfair', 'unfamiliar', 'unforgiven', 'unfortun', 'unfound', 'unhappi', 'uni', 'unicorn', 'unifi', 'uniform', 'uniformli', 'unintent', 'union', 'uniqu', 'unisql', 'unit', 'uniti', 'univ', 'univers', 'universit', 'universitaet', 'unix', 'unjust', 'unknown', 'unlaw', 'unless', 'unlik', 'unlimit', 'unload', 'unlock', 'unnecessari', 'unnecessarili', 'unoc', 'unopen', 'unorgan', 'unpleas', 'unplug', 'unpopular', 'unpreced', 'unpredict', 'unread', 'unreason', 'unrecogn', 'unregist', 'unrel', 'unreli', 'unsaf', 'unsecur', 'unsign', 'unstabl', 'unsubstanti', 'unsuccess', 'unsupport', 'until', 'unto', 'untru', 'unus', 'unusu', 'unwant', 'unwil', 'unworthi', 'uo', 'up', 'upcom', 'updat', 'updatedir', 'upgrad', 'uphold', 'upi', 'upload', 'upon', 'upper', 'uppsala', 'upright', 'upris', 'upset', 'upstair', 'upto', 'upward', 'ur', 'uranium', 'uranu', 'urban', 'urbana', 'urbanachampaign', 'urg', 'urgent', 'us', 'usa', 'usabl', 'usaf', 'usag', 'usc', 'use', 'useful', 'useless', 'usenet', 'user', 'usernam', 'usmail', 'usp', 'usrobot', 'ussr', 'usual', 'ut', 'utah', 'utexa', 'util', 'utopian', 'utrecht', 'utter', 'utterli', 'utzoo', 'uucp', 'uudecod', 'uuencod', 'uunet', 'uupcb', 'uv', 'uw', 'uy', 'uz', 'uzi', 'va', 'vac', 'vacat', 'vaccin', 'vacuum', 'vagu', 'vain', 'valentin', 'valeri', 'valid', 'valley', 'valu', 'valuabl', 'valv', 'van', 'vancouv', 'vandal', 'vanderbi', 'vanderbyl', 'vanheyningen', 'vanish', 'vapor', 'vari', 'variabl', 'variant', 'variat', 'varieti', 'variou', 'vast', 'vastli', 'vat', 'vaux', 'vax', 'vbv', 'vcr', 'vd', 'veal', 'vector', 'vega', 'veget', 'vegetarian', 'vehicl', 'veil', 'vein', 'velasco', 'veloc', 'vendor', 'vener', 'veng', 'venom', 'vent', 'ventur', 'ventura', 'venu', 'ver', 'vera', 'verbal', 'verbatim', 'verbeek', 'verdict', 'veri', 'verif', 'verifi', 'vernon', 'vers', 'versa', 'version', 'versu', 'vertic', 'vesa', 'vessel', 'vesselin', 'vest', 'vesterman', 'vet', 'veteran', 'veto', 'vezina', 'vga', 'vh', 'vhf', 'vi', 'via', 'viabl', 'vibrat', 'vic', 'vice', 'vicin', 'viciou', 'victim', 'victor', 'victori', 'victoria', 'video', 'videotap', 'vienna', 'vietnam', 'view', 'viewer', 'viewpoint', 'vike', 'villag', 'vin', 'vinc', 'vincent', 'vintag', 'vinyl', 'viola', 'violat', 'violenc', 'violent', 'viper', 'virgilio', 'virgin', 'virginia', 'viril', 'virtu', 'virtual', 'viru', 'visa', 'visibl', 'vision', 'visit', 'visitor', 'visual', 'vital', 'vitamin', 'vl', 'vladimir', 'vladimirov', 'vlb', 'vlsi', 'vm', 'vnet', 'vnew', 'vo', 'vocal', 'voic', 'void', 'vol', 'volt', 'voltag', 'volum', 'volunt', 'voluntari', 'volvo', 'vomit', 'von', 'vote', 'voter', 'vow', 'vox', 'voyag', 'vp', 'vr', 'vram', 'vs', 'vt', 'vu', 'vulcan', 'vulner', 'vw', 'wa', 'wacko', 'waco', 'wade', 'waffl', 'wag', 'wage', 'wager', 'wagner', 'wagon', 'wail', 'wait', 'waiver', 'wake', 'wale', 'walk', 'walker', 'wall', 'walla', 'wallac', 'wallach', 'wallet', 'wallpap', 'walsh', 'walt', 'walter', 'wan', 'wander', 'wang', 'wangr', 'want', 'war', 'ward', 'ware', 'warfar', 'wari', 'warm', 'warn', 'warner', 'warp', 'warrant', 'warranti', 'warren', 'warrent', 'warrior', 'warsaw', 'wash', 'washer', 'washington', 'wast', 'watch', 'wate', 'water', 'waterloo', 'watson', 'watt', 'wave', 'waveform', 'wax', 'way', 'wayn', 'wb', 'wc', 'wcl', 'wd', 'wdstarr', 'we', 'weak', 'weaken', 'weaker', 'wealth', 'wealthi', 'weapon', 'weaponri', 'wear', 'weari', 'weather', 'weaver', 'web', 'webb', 'weber', 'webster', 'wed', 'wednesday', 'wee', 'weed', 'week', 'weekend', 'weekli', 'weeni', 'weep', 'weigh', 'weight', 'weird', 'weiss', 'weitek', 'welch', 'welcom', 'weld', 'welfar', 'well', 'wellington', 'were', 'wesley', 'west', 'western', 'wet', 'wfan', 'wh', 'whaler', 'whaley', 'wharfi', 'what', 'whatev', 'whatsoev', 'wheat', 'wheel', 'wheeli', 'when', 'whenev', 'where', 'wherea', 'wherebi', 'wherein', 'wherev', 'whether', 'whi', 'which', 'whichev', 'while', 'whine', 'whip', 'whistl', 'whit', 'white', 'whitmor', 'who', 'whoever', 'whole', 'wholesal', 'wholli', 'whore', 'whose', 'wi', 'wibbl', 'wick', 'wide', 'wider', 'widespread', 'widget', 'width', 'wiener', 'wierd', 'wife', 'wil', 'wild', 'wilder', 'will', 'willi', 'william', 'willing', 'willingli', 'wilmington', 'wilson', 'win', 'winbench', 'wind', 'window', 'windshield', 'wine', 'winfax', 'winfield', 'wing', 'wingat', 'winmark', 'winner', 'winnipeg', 'winona', 'winter', 'winword', 'wipe', 'wire', 'wirefram', 'wireless', 'wiretap', 'wisconsin', 'wisdom', 'wise', 'wish', 'wit', 'witch', 'with', 'withdraw', 'wither', 'withhold', 'within', 'without', 'withstand', 'wittgenstein', 'wive', 'wizard', 'wk', 'wlsmith', 'wm', 'wn', 'wo', 'wod', 'woe', 'wolf', 'wolv', 'woman', 'women', 'won', 'wonder', 'wong', 'wont', 'wood', 'wooden', 'woodi', 'woodward', 'woof', 'woop', 'worcest', 'word', 'wordperfect', 'work', 'workabl', 'workaround', 'worker', 'workgroup', 'workplac', 'workshop', 'workspac', 'workstat', 'world', 'worldwid', 'worm', 'worri', 'wors', 'worship', 'worshipp', 'worst', 'worth', 'worthi', 'worthless', 'worthwhil', 'would', 'wound', 'wow', 'wp', 'wq', 'wr', 'wrap', 'wrat', 'wrath', 'wreck', 'wrench', 'wright', 'wrigley', 'wrist', 'write', 'writer', 'written', 'wrong', 'wrt', 'ws', 'wt', 'wtc', 'wtm', 'wtte', 'wu', 'wuarchiv', 'ww', 'wwi', 'wwii', 'wwiz', 'xannounc', 'xavier', 'xc', 'xcopyarea', 'xcreatewindow', 'xdm', 'xenix', 'xerox', 'xhost', 'xi', 'ximag', 'ximenez', 'xl', 'xlib', 'xlyx', 'xm', 'xmodmap', 'xor', 'xpert', 'xputimag', 'xs', 'xserver', 'xsun', 'xt', 'xterm', 'xtian', 'xtwindow', 'xv', 'xview', 'xwd', 'xwindow', 'xx', 'xxx', 'xyz', 'ya', 'yah', 'yale', 'yamaha', 'yang', 'yank', 'yanke', 'yard', 'yassin', 'yd', 'ye', 'yea', 'yeah', 'year', 'yearli', 'yeast', 'yee', 'yeh', 'yell', 'yellow', 'yep', 'yer', 'yerevan', 'yesterday', 'yet', 'yield', 'yigal', 'yn', 'yo', 'york', 'you', 'young', 'younger', 'youngster', 'youngstown', 'yount', 'your', 'youth', 'yr', 'ysebaert', 'yu', 'yugoslavia', 'yup', 'yzerman', 'zbib', 'zealand', 'zen', 'zeo', 'zephyr', 'zero', 'zeu', 'zhamnov', 'zhenghao', 'zinc', 'zionism', 'zionist', 'zip', 'zisfein', 'zone', 'zoolog', 'zoom', 'zs', 'zubov', 'zurich', 'zyeh', 'zz']\n"
     ]
    }
   ],
   "source": [
    "vocabulary=count_vect.get_feature_names() #Estos nombres de las palabras seleccionadas para el vocabulario, ordenadas por orden alfabético\n",
    "print(vocabulary)"
   ]
  },
  {
   "cell_type": "code",
   "execution_count": 109,
   "metadata": {},
   "outputs": [
    {
     "data": {
      "text/plain": [
       "9183"
      ]
     },
     "execution_count": 109,
     "metadata": {},
     "output_type": "execute_result"
    }
   ],
   "source": [
    "len(vocabulary)"
   ]
  },
  {
   "cell_type": "markdown",
   "metadata": {
    "colab_type": "text",
    "id": "bNuKEHS8nJgz"
   },
   "source": [
    "En la siguiente celda de código transforme los artículos procesados al vector de cuentas de palabras, es decir, transforme los artículos procesados utilizando el count vectorizer."
   ]
  },
  {
   "cell_type": "code",
   "execution_count": 114,
   "metadata": {
    "colab": {},
    "colab_type": "code",
    "id": "n0aDvu7_niWR"
   },
   "outputs": [],
   "source": [
    "X_train_data= count_vect.fit_transform(articulos_procesados)"
   ]
  },
  {
   "cell_type": "markdown",
   "metadata": {
    "colab_type": "text",
    "id": "xvp0yqMvn5u8"
   },
   "source": [
    "Utilice la función MultinomialNB de sklear para implementar un clasificador Naive Bayes discreto. Utilice smoothing laplaciano con alpha=3."
   ]
  },
  {
   "cell_type": "code",
   "execution_count": 113,
   "metadata": {
    "colab": {},
    "colab_type": "code",
    "id": "SKbjTWPPlYU3"
   },
   "outputs": [
    {
     "ename": "ValueError",
     "evalue": "Found input variables with inconsistent numbers of samples: [11314, 9183]",
     "output_type": "error",
     "traceback": [
      "\u001b[1;31m---------------------------------------------------------------------------\u001b[0m",
      "\u001b[1;31mValueError\u001b[0m                                Traceback (most recent call last)",
      "\u001b[1;32m<ipython-input-113-e113403fecc4>\u001b[0m in \u001b[0;36m<module>\u001b[1;34m\u001b[0m\n\u001b[0;32m      1\u001b[0m \u001b[1;32mfrom\u001b[0m \u001b[0msklearn\u001b[0m\u001b[1;33m.\u001b[0m\u001b[0mnaive_bayes\u001b[0m \u001b[1;32mimport\u001b[0m \u001b[0mMultinomialNB\u001b[0m\u001b[1;33m\u001b[0m\u001b[1;33m\u001b[0m\u001b[0m\n\u001b[0;32m      2\u001b[0m \u001b[0mclf\u001b[0m \u001b[1;33m=\u001b[0m \u001b[0mMultinomialNB\u001b[0m\u001b[1;33m(\u001b[0m\u001b[0malpha\u001b[0m\u001b[1;33m=\u001b[0m\u001b[1;36m3.0\u001b[0m\u001b[1;33m)\u001b[0m\u001b[1;33m\u001b[0m\u001b[1;33m\u001b[0m\u001b[0m\n\u001b[1;32m----> 3\u001b[1;33m \u001b[0mclf\u001b[0m\u001b[1;33m.\u001b[0m\u001b[0mfit\u001b[0m\u001b[1;33m(\u001b[0m\u001b[0mX_train_data\u001b[0m\u001b[1;33m,\u001b[0m \u001b[0mvocabulary\u001b[0m\u001b[1;33m)\u001b[0m\u001b[1;33m\u001b[0m\u001b[1;33m\u001b[0m\u001b[0m\n\u001b[0m",
      "\u001b[1;32m~\\Anaconda3\\lib\\site-packages\\sklearn\\naive_bayes.py\u001b[0m in \u001b[0;36mfit\u001b[1;34m(self, X, y, sample_weight)\u001b[0m\n\u001b[0;32m    613\u001b[0m         \u001b[0mself\u001b[0m \u001b[1;33m:\u001b[0m \u001b[0mobject\u001b[0m\u001b[1;33m\u001b[0m\u001b[1;33m\u001b[0m\u001b[0m\n\u001b[0;32m    614\u001b[0m         \"\"\"\n\u001b[1;32m--> 615\u001b[1;33m         \u001b[0mX\u001b[0m\u001b[1;33m,\u001b[0m \u001b[0my\u001b[0m \u001b[1;33m=\u001b[0m \u001b[0mself\u001b[0m\u001b[1;33m.\u001b[0m\u001b[0m_check_X_y\u001b[0m\u001b[1;33m(\u001b[0m\u001b[0mX\u001b[0m\u001b[1;33m,\u001b[0m \u001b[0my\u001b[0m\u001b[1;33m)\u001b[0m\u001b[1;33m\u001b[0m\u001b[1;33m\u001b[0m\u001b[0m\n\u001b[0m\u001b[0;32m    616\u001b[0m         \u001b[0m_\u001b[0m\u001b[1;33m,\u001b[0m \u001b[0mn_features\u001b[0m \u001b[1;33m=\u001b[0m \u001b[0mX\u001b[0m\u001b[1;33m.\u001b[0m\u001b[0mshape\u001b[0m\u001b[1;33m\u001b[0m\u001b[1;33m\u001b[0m\u001b[0m\n\u001b[0;32m    617\u001b[0m         \u001b[0mself\u001b[0m\u001b[1;33m.\u001b[0m\u001b[0mn_features_\u001b[0m \u001b[1;33m=\u001b[0m \u001b[0mn_features\u001b[0m\u001b[1;33m\u001b[0m\u001b[1;33m\u001b[0m\u001b[0m\n",
      "\u001b[1;32m~\\Anaconda3\\lib\\site-packages\\sklearn\\naive_bayes.py\u001b[0m in \u001b[0;36m_check_X_y\u001b[1;34m(self, X, y)\u001b[0m\n\u001b[0;32m    478\u001b[0m \u001b[1;33m\u001b[0m\u001b[0m\n\u001b[0;32m    479\u001b[0m     \u001b[1;32mdef\u001b[0m \u001b[0m_check_X_y\u001b[0m\u001b[1;33m(\u001b[0m\u001b[0mself\u001b[0m\u001b[1;33m,\u001b[0m \u001b[0mX\u001b[0m\u001b[1;33m,\u001b[0m \u001b[0my\u001b[0m\u001b[1;33m)\u001b[0m\u001b[1;33m:\u001b[0m\u001b[1;33m\u001b[0m\u001b[1;33m\u001b[0m\u001b[0m\n\u001b[1;32m--> 480\u001b[1;33m         \u001b[1;32mreturn\u001b[0m \u001b[0mself\u001b[0m\u001b[1;33m.\u001b[0m\u001b[0m_validate_data\u001b[0m\u001b[1;33m(\u001b[0m\u001b[0mX\u001b[0m\u001b[1;33m,\u001b[0m \u001b[0my\u001b[0m\u001b[1;33m,\u001b[0m \u001b[0maccept_sparse\u001b[0m\u001b[1;33m=\u001b[0m\u001b[1;34m'csr'\u001b[0m\u001b[1;33m)\u001b[0m\u001b[1;33m\u001b[0m\u001b[1;33m\u001b[0m\u001b[0m\n\u001b[0m\u001b[0;32m    481\u001b[0m \u001b[1;33m\u001b[0m\u001b[0m\n\u001b[0;32m    482\u001b[0m     \u001b[1;32mdef\u001b[0m \u001b[0m_update_class_log_prior\u001b[0m\u001b[1;33m(\u001b[0m\u001b[0mself\u001b[0m\u001b[1;33m,\u001b[0m \u001b[0mclass_prior\u001b[0m\u001b[1;33m=\u001b[0m\u001b[1;32mNone\u001b[0m\u001b[1;33m)\u001b[0m\u001b[1;33m:\u001b[0m\u001b[1;33m\u001b[0m\u001b[1;33m\u001b[0m\u001b[0m\n",
      "\u001b[1;32m~\\Anaconda3\\lib\\site-packages\\sklearn\\base.py\u001b[0m in \u001b[0;36m_validate_data\u001b[1;34m(self, X, y, reset, validate_separately, **check_params)\u001b[0m\n\u001b[0;32m    430\u001b[0m                 \u001b[0my\u001b[0m \u001b[1;33m=\u001b[0m \u001b[0mcheck_array\u001b[0m\u001b[1;33m(\u001b[0m\u001b[0my\u001b[0m\u001b[1;33m,\u001b[0m \u001b[1;33m**\u001b[0m\u001b[0mcheck_y_params\u001b[0m\u001b[1;33m)\u001b[0m\u001b[1;33m\u001b[0m\u001b[1;33m\u001b[0m\u001b[0m\n\u001b[0;32m    431\u001b[0m             \u001b[1;32melse\u001b[0m\u001b[1;33m:\u001b[0m\u001b[1;33m\u001b[0m\u001b[1;33m\u001b[0m\u001b[0m\n\u001b[1;32m--> 432\u001b[1;33m                 \u001b[0mX\u001b[0m\u001b[1;33m,\u001b[0m \u001b[0my\u001b[0m \u001b[1;33m=\u001b[0m \u001b[0mcheck_X_y\u001b[0m\u001b[1;33m(\u001b[0m\u001b[0mX\u001b[0m\u001b[1;33m,\u001b[0m \u001b[0my\u001b[0m\u001b[1;33m,\u001b[0m \u001b[1;33m**\u001b[0m\u001b[0mcheck_params\u001b[0m\u001b[1;33m)\u001b[0m\u001b[1;33m\u001b[0m\u001b[1;33m\u001b[0m\u001b[0m\n\u001b[0m\u001b[0;32m    433\u001b[0m             \u001b[0mout\u001b[0m \u001b[1;33m=\u001b[0m \u001b[0mX\u001b[0m\u001b[1;33m,\u001b[0m \u001b[0my\u001b[0m\u001b[1;33m\u001b[0m\u001b[1;33m\u001b[0m\u001b[0m\n\u001b[0;32m    434\u001b[0m \u001b[1;33m\u001b[0m\u001b[0m\n",
      "\u001b[1;32m~\\Anaconda3\\lib\\site-packages\\sklearn\\utils\\validation.py\u001b[0m in \u001b[0;36minner_f\u001b[1;34m(*args, **kwargs)\u001b[0m\n\u001b[0;32m     71\u001b[0m                           FutureWarning)\n\u001b[0;32m     72\u001b[0m         \u001b[0mkwargs\u001b[0m\u001b[1;33m.\u001b[0m\u001b[0mupdate\u001b[0m\u001b[1;33m(\u001b[0m\u001b[1;33m{\u001b[0m\u001b[0mk\u001b[0m\u001b[1;33m:\u001b[0m \u001b[0marg\u001b[0m \u001b[1;32mfor\u001b[0m \u001b[0mk\u001b[0m\u001b[1;33m,\u001b[0m \u001b[0marg\u001b[0m \u001b[1;32min\u001b[0m \u001b[0mzip\u001b[0m\u001b[1;33m(\u001b[0m\u001b[0msig\u001b[0m\u001b[1;33m.\u001b[0m\u001b[0mparameters\u001b[0m\u001b[1;33m,\u001b[0m \u001b[0margs\u001b[0m\u001b[1;33m)\u001b[0m\u001b[1;33m}\u001b[0m\u001b[1;33m)\u001b[0m\u001b[1;33m\u001b[0m\u001b[1;33m\u001b[0m\u001b[0m\n\u001b[1;32m---> 73\u001b[1;33m         \u001b[1;32mreturn\u001b[0m \u001b[0mf\u001b[0m\u001b[1;33m(\u001b[0m\u001b[1;33m**\u001b[0m\u001b[0mkwargs\u001b[0m\u001b[1;33m)\u001b[0m\u001b[1;33m\u001b[0m\u001b[1;33m\u001b[0m\u001b[0m\n\u001b[0m\u001b[0;32m     74\u001b[0m     \u001b[1;32mreturn\u001b[0m \u001b[0minner_f\u001b[0m\u001b[1;33m\u001b[0m\u001b[1;33m\u001b[0m\u001b[0m\n\u001b[0;32m     75\u001b[0m \u001b[1;33m\u001b[0m\u001b[0m\n",
      "\u001b[1;32m~\\Anaconda3\\lib\\site-packages\\sklearn\\utils\\validation.py\u001b[0m in \u001b[0;36mcheck_X_y\u001b[1;34m(X, y, accept_sparse, accept_large_sparse, dtype, order, copy, force_all_finite, ensure_2d, allow_nd, multi_output, ensure_min_samples, ensure_min_features, y_numeric, estimator)\u001b[0m\n\u001b[0;32m    811\u001b[0m         \u001b[0my\u001b[0m \u001b[1;33m=\u001b[0m \u001b[0my\u001b[0m\u001b[1;33m.\u001b[0m\u001b[0mastype\u001b[0m\u001b[1;33m(\u001b[0m\u001b[0mnp\u001b[0m\u001b[1;33m.\u001b[0m\u001b[0mfloat64\u001b[0m\u001b[1;33m)\u001b[0m\u001b[1;33m\u001b[0m\u001b[1;33m\u001b[0m\u001b[0m\n\u001b[0;32m    812\u001b[0m \u001b[1;33m\u001b[0m\u001b[0m\n\u001b[1;32m--> 813\u001b[1;33m     \u001b[0mcheck_consistent_length\u001b[0m\u001b[1;33m(\u001b[0m\u001b[0mX\u001b[0m\u001b[1;33m,\u001b[0m \u001b[0my\u001b[0m\u001b[1;33m)\u001b[0m\u001b[1;33m\u001b[0m\u001b[1;33m\u001b[0m\u001b[0m\n\u001b[0m\u001b[0;32m    814\u001b[0m \u001b[1;33m\u001b[0m\u001b[0m\n\u001b[0;32m    815\u001b[0m     \u001b[1;32mreturn\u001b[0m \u001b[0mX\u001b[0m\u001b[1;33m,\u001b[0m \u001b[0my\u001b[0m\u001b[1;33m\u001b[0m\u001b[1;33m\u001b[0m\u001b[0m\n",
      "\u001b[1;32m~\\Anaconda3\\lib\\site-packages\\sklearn\\utils\\validation.py\u001b[0m in \u001b[0;36mcheck_consistent_length\u001b[1;34m(*arrays)\u001b[0m\n\u001b[0;32m    255\u001b[0m     \u001b[1;32mif\u001b[0m \u001b[0mlen\u001b[0m\u001b[1;33m(\u001b[0m\u001b[0muniques\u001b[0m\u001b[1;33m)\u001b[0m \u001b[1;33m>\u001b[0m \u001b[1;36m1\u001b[0m\u001b[1;33m:\u001b[0m\u001b[1;33m\u001b[0m\u001b[1;33m\u001b[0m\u001b[0m\n\u001b[0;32m    256\u001b[0m         raise ValueError(\"Found input variables with inconsistent numbers of\"\n\u001b[1;32m--> 257\u001b[1;33m                          \" samples: %r\" % [int(l) for l in lengths])\n\u001b[0m\u001b[0;32m    258\u001b[0m \u001b[1;33m\u001b[0m\u001b[0m\n\u001b[0;32m    259\u001b[0m \u001b[1;33m\u001b[0m\u001b[0m\n",
      "\u001b[1;31mValueError\u001b[0m: Found input variables with inconsistent numbers of samples: [11314, 9183]"
     ]
    }
   ],
   "source": [
    "from sklearn.naive_bayes import MultinomialNB\n",
    "clf = MultinomialNB(alpha=3.0)\n",
    "clf.fit(X_train_data, vocabulary)"
   ]
  },
  {
   "cell_type": "markdown",
   "metadata": {
    "colab_type": "text",
    "id": "QtG52ZJdpMOV"
   },
   "source": [
    "## Evaluación con el train set\n",
    "Evalúe el accuracy del modelo entrenado utilizando el train set."
   ]
  },
  {
   "cell_type": "code",
   "execution_count": null,
   "metadata": {
    "colab": {},
    "colab_type": "code",
    "id": "aXk0xVJrnxk-"
   },
   "outputs": [],
   "source": [
    "clf.score(#SOLUCION AQUI)"
   ]
  },
  {
   "cell_type": "markdown",
   "metadata": {
    "colab_type": "text",
    "id": "gYCjQykXq0of"
   },
   "source": [
    "# Evaluación con el test set\n",
    "Procese y convierta los artículos del test-set. Evalúe el accuracy del modelo con los parámetros obtenidos anteriormente utilizando el test-set."
   ]
  },
  {
   "cell_type": "code",
   "execution_count": null,
   "metadata": {
    "colab": {},
    "colab_type": "code",
    "id": "x_T_6JWGoedN"
   },
   "outputs": [],
   "source": [
    "twenty_test = fetch_20newsgroups(subset='test', shuffle=False)"
   ]
  },
  {
   "cell_type": "code",
   "execution_count": null,
   "metadata": {
    "colab": {},
    "colab_type": "code",
    "id": "BoX-jgDdpJlf"
   },
   "outputs": [],
   "source": [
    "#Procesando todos los artículos:\n",
    "articulos_procesados_test=list()\n",
    "for idx in range(len(twenty_test.data)):\n",
    "    ### SOLUCIÓN AQUÍ"
   ]
  },
  {
   "cell_type": "code",
   "execution_count": null,
   "metadata": {
    "colab": {},
    "colab_type": "code",
    "id": "WDJlssjrrlA7"
   },
   "outputs": [],
   "source": [
    "#Transforme los artículos de test procesados\n",
    "X_test_data="
   ]
  },
  {
   "cell_type": "code",
   "execution_count": null,
   "metadata": {
    "colab": {},
    "colab_type": "code",
    "id": "abq_GeMFpw8c"
   },
   "outputs": [],
   "source": [
    "#Evalúe el score del modelo entrenado para el train set para los artículos de test\n",
    "clf.score(#SOLUCION AQUI)"
   ]
  }
 ],
 "metadata": {
  "colab": {
   "name": "Laboratorio .ipynb",
   "provenance": [],
   "version": "0.3.2"
  },
  "kernelspec": {
   "display_name": "Python 3",
   "language": "python",
   "name": "python3"
  },
  "language_info": {
   "codemirror_mode": {
    "name": "ipython",
    "version": 3
   },
   "file_extension": ".py",
   "mimetype": "text/x-python",
   "name": "python",
   "nbconvert_exporter": "python",
   "pygments_lexer": "ipython3",
   "version": "3.6.10"
  }
 },
 "nbformat": 4,
 "nbformat_minor": 4
}
